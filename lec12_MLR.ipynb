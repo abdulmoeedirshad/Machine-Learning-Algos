{
 "cells": [
  {
   "cell_type": "markdown",
   "metadata": {
    "id": "jN2uCHIB-T3x",
    "tags": []
   },
   "source": [
    "# Lecture 13 – Data Science\n"
   ]
  },
  {
   "cell_type": "code",
   "execution_count": 58,
   "metadata": {
    "id": "m27Hx0RV-T30"
   },
   "outputs": [],
   "source": [
    "import numpy as np\n",
    "import pandas as pd\n",
    "import matplotlib.pyplot as plt\n",
    "%matplotlib inline\n",
    "import seaborn as sns"
   ]
  },
  {
   "cell_type": "markdown",
   "metadata": {
    "id": "kKq6JD8j-T32"
   },
   "source": [
    "## Multiple Linear Regression"
   ]
  },
  {
   "cell_type": "markdown",
   "metadata": {
    "id": "hORZvCn_-T32"
   },
   "source": [
    "Let's load in a new dataset. This is aggregate per-player data from the 2018-19 NBA season, downloaded from [Kaggle](https://www.kaggle.com/schmadam97/nba-regular-season-stats-20182019)."
   ]
  },
  {
   "cell_type": "code",
   "execution_count": 18,
   "metadata": {},
   "outputs": [],
   "source": [
    "nba = pd.read_csv('C:\\\\Users\\\\MOEED\\\\Desktop\\\\Knowledge Streams\\\\Machine Learning\\\\nba18-19.csv', index_col=0)\n",
    "# Drops name of index (players are ordered by rank)"
   ]
  },
  {
   "cell_type": "code",
   "execution_count": 20,
   "metadata": {
    "id": "znW-7RDk-T33",
    "outputId": "18aea488-2f35-4b02-d432-6a63ff75130d",
    "scrolled": true
   },
   "outputs": [
    {
     "data": {
      "text/html": [
       "<div>\n",
       "<style scoped>\n",
       "    .dataframe tbody tr th:only-of-type {\n",
       "        vertical-align: middle;\n",
       "    }\n",
       "\n",
       "    .dataframe tbody tr th {\n",
       "        vertical-align: top;\n",
       "    }\n",
       "\n",
       "    .dataframe thead th {\n",
       "        text-align: right;\n",
       "    }\n",
       "</style>\n",
       "<table border=\"1\" class=\"dataframe\">\n",
       "  <thead>\n",
       "    <tr style=\"text-align: right;\">\n",
       "      <th></th>\n",
       "      <th>Player</th>\n",
       "      <th>Pos</th>\n",
       "      <th>Age</th>\n",
       "      <th>Tm</th>\n",
       "      <th>G</th>\n",
       "      <th>GS</th>\n",
       "      <th>MP</th>\n",
       "      <th>FG</th>\n",
       "      <th>FGA</th>\n",
       "      <th>FG%</th>\n",
       "      <th>...</th>\n",
       "      <th>FT%</th>\n",
       "      <th>ORB</th>\n",
       "      <th>DRB</th>\n",
       "      <th>TRB</th>\n",
       "      <th>AST</th>\n",
       "      <th>STL</th>\n",
       "      <th>BLK</th>\n",
       "      <th>TOV</th>\n",
       "      <th>PF</th>\n",
       "      <th>PTS</th>\n",
       "    </tr>\n",
       "    <tr>\n",
       "      <th>Rk</th>\n",
       "      <th></th>\n",
       "      <th></th>\n",
       "      <th></th>\n",
       "      <th></th>\n",
       "      <th></th>\n",
       "      <th></th>\n",
       "      <th></th>\n",
       "      <th></th>\n",
       "      <th></th>\n",
       "      <th></th>\n",
       "      <th></th>\n",
       "      <th></th>\n",
       "      <th></th>\n",
       "      <th></th>\n",
       "      <th></th>\n",
       "      <th></th>\n",
       "      <th></th>\n",
       "      <th></th>\n",
       "      <th></th>\n",
       "      <th></th>\n",
       "      <th></th>\n",
       "    </tr>\n",
       "  </thead>\n",
       "  <tbody>\n",
       "    <tr>\n",
       "      <th>1</th>\n",
       "      <td>Álex Abrines\\abrinal01</td>\n",
       "      <td>SG</td>\n",
       "      <td>25</td>\n",
       "      <td>OKC</td>\n",
       "      <td>31</td>\n",
       "      <td>2</td>\n",
       "      <td>19.0</td>\n",
       "      <td>1.8</td>\n",
       "      <td>5.1</td>\n",
       "      <td>0.357</td>\n",
       "      <td>...</td>\n",
       "      <td>0.923</td>\n",
       "      <td>0.2</td>\n",
       "      <td>1.4</td>\n",
       "      <td>1.5</td>\n",
       "      <td>0.6</td>\n",
       "      <td>0.5</td>\n",
       "      <td>0.2</td>\n",
       "      <td>0.5</td>\n",
       "      <td>1.7</td>\n",
       "      <td>5.3</td>\n",
       "    </tr>\n",
       "    <tr>\n",
       "      <th>2</th>\n",
       "      <td>Quincy Acy\\acyqu01</td>\n",
       "      <td>PF</td>\n",
       "      <td>28</td>\n",
       "      <td>PHO</td>\n",
       "      <td>10</td>\n",
       "      <td>0</td>\n",
       "      <td>12.3</td>\n",
       "      <td>0.4</td>\n",
       "      <td>1.8</td>\n",
       "      <td>0.222</td>\n",
       "      <td>...</td>\n",
       "      <td>0.700</td>\n",
       "      <td>0.3</td>\n",
       "      <td>2.2</td>\n",
       "      <td>2.5</td>\n",
       "      <td>0.8</td>\n",
       "      <td>0.1</td>\n",
       "      <td>0.4</td>\n",
       "      <td>0.4</td>\n",
       "      <td>2.4</td>\n",
       "      <td>1.7</td>\n",
       "    </tr>\n",
       "    <tr>\n",
       "      <th>3</th>\n",
       "      <td>Jaylen Adams\\adamsja01</td>\n",
       "      <td>PG</td>\n",
       "      <td>22</td>\n",
       "      <td>ATL</td>\n",
       "      <td>34</td>\n",
       "      <td>1</td>\n",
       "      <td>12.6</td>\n",
       "      <td>1.1</td>\n",
       "      <td>3.2</td>\n",
       "      <td>0.345</td>\n",
       "      <td>...</td>\n",
       "      <td>0.778</td>\n",
       "      <td>0.3</td>\n",
       "      <td>1.4</td>\n",
       "      <td>1.8</td>\n",
       "      <td>1.9</td>\n",
       "      <td>0.4</td>\n",
       "      <td>0.1</td>\n",
       "      <td>0.8</td>\n",
       "      <td>1.3</td>\n",
       "      <td>3.2</td>\n",
       "    </tr>\n",
       "    <tr>\n",
       "      <th>4</th>\n",
       "      <td>Steven Adams\\adamsst01</td>\n",
       "      <td>C</td>\n",
       "      <td>25</td>\n",
       "      <td>OKC</td>\n",
       "      <td>80</td>\n",
       "      <td>80</td>\n",
       "      <td>33.4</td>\n",
       "      <td>6.0</td>\n",
       "      <td>10.1</td>\n",
       "      <td>0.595</td>\n",
       "      <td>...</td>\n",
       "      <td>0.500</td>\n",
       "      <td>4.9</td>\n",
       "      <td>4.6</td>\n",
       "      <td>9.5</td>\n",
       "      <td>1.6</td>\n",
       "      <td>1.5</td>\n",
       "      <td>1.0</td>\n",
       "      <td>1.7</td>\n",
       "      <td>2.6</td>\n",
       "      <td>13.9</td>\n",
       "    </tr>\n",
       "    <tr>\n",
       "      <th>5</th>\n",
       "      <td>Bam Adebayo\\adebaba01</td>\n",
       "      <td>C</td>\n",
       "      <td>21</td>\n",
       "      <td>MIA</td>\n",
       "      <td>82</td>\n",
       "      <td>28</td>\n",
       "      <td>23.3</td>\n",
       "      <td>3.4</td>\n",
       "      <td>5.9</td>\n",
       "      <td>0.576</td>\n",
       "      <td>...</td>\n",
       "      <td>0.735</td>\n",
       "      <td>2.0</td>\n",
       "      <td>5.3</td>\n",
       "      <td>7.3</td>\n",
       "      <td>2.2</td>\n",
       "      <td>0.9</td>\n",
       "      <td>0.8</td>\n",
       "      <td>1.5</td>\n",
       "      <td>2.5</td>\n",
       "      <td>8.9</td>\n",
       "    </tr>\n",
       "  </tbody>\n",
       "</table>\n",
       "<p>5 rows × 29 columns</p>\n",
       "</div>"
      ],
      "text/plain": [
       "                    Player Pos  Age   Tm   G  GS    MP   FG   FGA    FG%  ...  \\\n",
       "Rk                                                                        ...   \n",
       "1   Álex Abrines\\abrinal01  SG   25  OKC  31   2  19.0  1.8   5.1  0.357  ...   \n",
       "2       Quincy Acy\\acyqu01  PF   28  PHO  10   0  12.3  0.4   1.8  0.222  ...   \n",
       "3   Jaylen Adams\\adamsja01  PG   22  ATL  34   1  12.6  1.1   3.2  0.345  ...   \n",
       "4   Steven Adams\\adamsst01   C   25  OKC  80  80  33.4  6.0  10.1  0.595  ...   \n",
       "5    Bam Adebayo\\adebaba01   C   21  MIA  82  28  23.3  3.4   5.9  0.576  ...   \n",
       "\n",
       "      FT%  ORB  DRB  TRB  AST  STL  BLK  TOV   PF   PTS  \n",
       "Rk                                                       \n",
       "1   0.923  0.2  1.4  1.5  0.6  0.5  0.2  0.5  1.7   5.3  \n",
       "2   0.700  0.3  2.2  2.5  0.8  0.1  0.4  0.4  2.4   1.7  \n",
       "3   0.778  0.3  1.4  1.8  1.9  0.4  0.1  0.8  1.3   3.2  \n",
       "4   0.500  4.9  4.6  9.5  1.6  1.5  1.0  1.7  2.6  13.9  \n",
       "5   0.735  2.0  5.3  7.3  2.2  0.9  0.8  1.5  2.5   8.9  \n",
       "\n",
       "[5 rows x 29 columns]"
      ]
     },
     "execution_count": 20,
     "metadata": {},
     "output_type": "execute_result"
    }
   ],
   "source": [
    "nba.head(5)"
   ]
  },
  {
   "cell_type": "markdown",
   "metadata": {
    "id": "BoMKKY_3-T34"
   },
   "source": [
    "<br/>\n",
    "We are interested in predicting the number of points (`PTS`) an athlete will score in a basketball game this season.\n",
    "\n",
    "Suppose we want to fit a linear model by using some characteristics, or **feature**s of a player. Specifically, we'll focus on field goals, assists, and 3-point attempts.\n",
    "\n",
    "- `FG`, the number of (2-point) field goals per game\n",
    "- `AST`, the average number of assists per game, and\n",
    "- `3PA`, the number of 3-point field goals attempted per game\n",
    "\n",
    "This is how we express that model:\n",
    "\n",
    "$$\n",
    "\\hat{y}\n",
    "=\n",
    "\\theta_0 +\n",
    "\\theta_1 \\cdot \\textbf{FG} +\n",
    "\\theta_2 \\cdot \\textbf{AST} +\n",
    "\\theta_3 \\cdot \\textbf{3PA}\n",
    "$$"
   ]
  },
  {
   "cell_type": "code",
   "execution_count": 130,
   "metadata": {
    "id": "nexhn_Qr-T34",
    "outputId": "a3f7d01f-83cf-4492-b283-9f1d8ced5a80"
   },
   "outputs": [
    {
     "data": {
      "text/html": [
       "<div>\n",
       "<style scoped>\n",
       "    .dataframe tbody tr th:only-of-type {\n",
       "        vertical-align: middle;\n",
       "    }\n",
       "\n",
       "    .dataframe tbody tr th {\n",
       "        vertical-align: top;\n",
       "    }\n",
       "\n",
       "    .dataframe thead th {\n",
       "        text-align: right;\n",
       "    }\n",
       "</style>\n",
       "<table border=\"1\" class=\"dataframe\">\n",
       "  <thead>\n",
       "    <tr style=\"text-align: right;\">\n",
       "      <th></th>\n",
       "      <th>FG</th>\n",
       "      <th>AST</th>\n",
       "      <th>3PA</th>\n",
       "      <th>PTS</th>\n",
       "    </tr>\n",
       "    <tr>\n",
       "      <th>Rk</th>\n",
       "      <th></th>\n",
       "      <th></th>\n",
       "      <th></th>\n",
       "      <th></th>\n",
       "    </tr>\n",
       "  </thead>\n",
       "  <tbody>\n",
       "    <tr>\n",
       "      <th>1</th>\n",
       "      <td>1.8</td>\n",
       "      <td>0.6</td>\n",
       "      <td>4.1</td>\n",
       "      <td>5.3</td>\n",
       "    </tr>\n",
       "    <tr>\n",
       "      <th>2</th>\n",
       "      <td>0.4</td>\n",
       "      <td>0.8</td>\n",
       "      <td>1.5</td>\n",
       "      <td>1.7</td>\n",
       "    </tr>\n",
       "    <tr>\n",
       "      <th>3</th>\n",
       "      <td>1.1</td>\n",
       "      <td>1.9</td>\n",
       "      <td>2.2</td>\n",
       "      <td>3.2</td>\n",
       "    </tr>\n",
       "    <tr>\n",
       "      <th>4</th>\n",
       "      <td>6.0</td>\n",
       "      <td>1.6</td>\n",
       "      <td>0.0</td>\n",
       "      <td>13.9</td>\n",
       "    </tr>\n",
       "    <tr>\n",
       "      <th>5</th>\n",
       "      <td>3.4</td>\n",
       "      <td>2.2</td>\n",
       "      <td>0.2</td>\n",
       "      <td>8.9</td>\n",
       "    </tr>\n",
       "    <tr>\n",
       "      <th>...</th>\n",
       "      <td>...</td>\n",
       "      <td>...</td>\n",
       "      <td>...</td>\n",
       "      <td>...</td>\n",
       "    </tr>\n",
       "    <tr>\n",
       "      <th>528</th>\n",
       "      <td>4.0</td>\n",
       "      <td>0.8</td>\n",
       "      <td>0.0</td>\n",
       "      <td>11.5</td>\n",
       "    </tr>\n",
       "    <tr>\n",
       "      <th>529</th>\n",
       "      <td>3.1</td>\n",
       "      <td>0.9</td>\n",
       "      <td>0.0</td>\n",
       "      <td>7.8</td>\n",
       "    </tr>\n",
       "    <tr>\n",
       "      <th>530</th>\n",
       "      <td>3.6</td>\n",
       "      <td>1.1</td>\n",
       "      <td>0.0</td>\n",
       "      <td>8.9</td>\n",
       "    </tr>\n",
       "    <tr>\n",
       "      <th>530</th>\n",
       "      <td>3.4</td>\n",
       "      <td>0.8</td>\n",
       "      <td>0.0</td>\n",
       "      <td>8.5</td>\n",
       "    </tr>\n",
       "    <tr>\n",
       "      <th>530</th>\n",
       "      <td>3.8</td>\n",
       "      <td>1.5</td>\n",
       "      <td>0.0</td>\n",
       "      <td>9.4</td>\n",
       "    </tr>\n",
       "  </tbody>\n",
       "</table>\n",
       "<p>708 rows × 4 columns</p>\n",
       "</div>"
      ],
      "text/plain": [
       "      FG  AST  3PA   PTS\n",
       "Rk                      \n",
       "1    1.8  0.6  4.1   5.3\n",
       "2    0.4  0.8  1.5   1.7\n",
       "3    1.1  1.9  2.2   3.2\n",
       "4    6.0  1.6  0.0  13.9\n",
       "5    3.4  2.2  0.2   8.9\n",
       "..   ...  ...  ...   ...\n",
       "528  4.0  0.8  0.0  11.5\n",
       "529  3.1  0.9  0.0   7.8\n",
       "530  3.6  1.1  0.0   8.9\n",
       "530  3.4  0.8  0.0   8.5\n",
       "530  3.8  1.5  0.0   9.4\n",
       "\n",
       "[708 rows x 4 columns]"
      ]
     },
     "execution_count": 130,
     "metadata": {},
     "output_type": "execute_result"
    }
   ],
   "source": [
    "# extract required Columns\n",
    "df=nba[['FG','AST','3PA','PTS']]\n",
    "df"
   ]
  },
  {
   "cell_type": "markdown",
   "metadata": {
    "id": "uI5z9jvS-T35"
   },
   "source": [
    "<br/><br/>\n",
    "In lecture, we saw that the predictions for the entire data set $\\hat{\\mathbb{Y}}$ can be computed as:\n",
    "\n",
    "$$ \\Large\n",
    "\\hat{\\mathbb{Y}} = \\mathbb{X} \\theta  \n",
    "$$\n",
    "\n",
    "The **design matrix** $\\mathbb{X} \\in \\mathbb{R}^{n,d+1}$ has $n$ rows corresponding to each record in the dataset and $d+1$ columns corresponding to the original $d$ columns in the data plus an additional 1s column vector (**bias/intercept feature**).\n",
    "\n",
    "Let's build this design matrix using Pandas:"
   ]
  },
  {
   "cell_type": "code",
   "execution_count": 150,
   "metadata": {
    "id": "8j0SChf5-T35",
    "outputId": "c0255c17-27ea-4dea-9067-39c15402a808"
   },
   "outputs": [
    {
     "ename": "ValueError",
     "evalue": "cannot insert Bias, already exists",
     "output_type": "error",
     "traceback": [
      "\u001b[1;31m---------------------------------------------------------------------------\u001b[0m",
      "\u001b[1;31mValueError\u001b[0m                                Traceback (most recent call last)",
      "\u001b[1;32m~\\AppData\\Local\\Temp\\ipykernel_7500\\2038814095.py\u001b[0m in \u001b[0;36m?\u001b[1;34m()\u001b[0m\n\u001b[0;32m      1\u001b[0m \u001b[1;31m# insert bias term with dataframe\u001b[0m\u001b[1;33m\u001b[0m\u001b[1;33m\u001b[0m\u001b[0m\n\u001b[1;32m----> 2\u001b[1;33m \u001b[0mdf\u001b[0m\u001b[1;33m.\u001b[0m\u001b[0minsert\u001b[0m\u001b[1;33m(\u001b[0m\u001b[1;36m0\u001b[0m\u001b[1;33m,\u001b[0m\u001b[1;34m'Bias'\u001b[0m\u001b[1;33m,\u001b[0m\u001b[1;36m1\u001b[0m\u001b[1;33m)\u001b[0m\u001b[1;33m\u001b[0m\u001b[1;33m\u001b[0m\u001b[0m\n\u001b[0m\u001b[0;32m      3\u001b[0m \u001b[0mdf\u001b[0m\u001b[1;33m.\u001b[0m\u001b[0mhead\u001b[0m\u001b[1;33m(\u001b[0m\u001b[1;33m)\u001b[0m\u001b[1;33m\u001b[0m\u001b[1;33m\u001b[0m\u001b[0m\n",
      "\u001b[1;32m~\\anaconda3\\Lib\\site-packages\\pandas\\core\\frame.py\u001b[0m in \u001b[0;36m?\u001b[1;34m(self, loc, column, value, allow_duplicates)\u001b[0m\n\u001b[0;32m   4927\u001b[0m                 \u001b[1;34m\"'self.flags.allows_duplicate_labels' is False.\"\u001b[0m\u001b[1;33m\u001b[0m\u001b[1;33m\u001b[0m\u001b[0m\n\u001b[0;32m   4928\u001b[0m             )\n\u001b[0;32m   4929\u001b[0m         \u001b[1;32mif\u001b[0m \u001b[1;32mnot\u001b[0m \u001b[0mallow_duplicates\u001b[0m \u001b[1;32mand\u001b[0m \u001b[0mcolumn\u001b[0m \u001b[1;32min\u001b[0m \u001b[0mself\u001b[0m\u001b[1;33m.\u001b[0m\u001b[0mcolumns\u001b[0m\u001b[1;33m:\u001b[0m\u001b[1;33m\u001b[0m\u001b[1;33m\u001b[0m\u001b[0m\n\u001b[0;32m   4930\u001b[0m             \u001b[1;31m# Should this be a different kind of error??\u001b[0m\u001b[1;33m\u001b[0m\u001b[1;33m\u001b[0m\u001b[0m\n\u001b[1;32m-> 4931\u001b[1;33m             \u001b[1;32mraise\u001b[0m \u001b[0mValueError\u001b[0m\u001b[1;33m(\u001b[0m\u001b[1;34mf\"cannot insert {column}, already exists\"\u001b[0m\u001b[1;33m)\u001b[0m\u001b[1;33m\u001b[0m\u001b[1;33m\u001b[0m\u001b[0m\n\u001b[0m\u001b[0;32m   4932\u001b[0m         \u001b[1;32mif\u001b[0m \u001b[1;32mnot\u001b[0m \u001b[0mis_integer\u001b[0m\u001b[1;33m(\u001b[0m\u001b[0mloc\u001b[0m\u001b[1;33m)\u001b[0m\u001b[1;33m:\u001b[0m\u001b[1;33m\u001b[0m\u001b[1;33m\u001b[0m\u001b[0m\n\u001b[0;32m   4933\u001b[0m             \u001b[1;32mraise\u001b[0m \u001b[0mTypeError\u001b[0m\u001b[1;33m(\u001b[0m\u001b[1;34m\"loc must be int\"\u001b[0m\u001b[1;33m)\u001b[0m\u001b[1;33m\u001b[0m\u001b[1;33m\u001b[0m\u001b[0m\n\u001b[0;32m   4934\u001b[0m         \u001b[1;31m# convert non stdlib ints to satisfy typing checks\u001b[0m\u001b[1;33m\u001b[0m\u001b[1;33m\u001b[0m\u001b[0m\n",
      "\u001b[1;31mValueError\u001b[0m: cannot insert Bias, already exists"
     ]
    }
   ],
   "source": [
    "# insert bias term with dataframe\n",
    "df.insert(0,'Bias',1)\n"
   ]
  },
  {
   "cell_type": "code",
   "execution_count": 156,
   "metadata": {},
   "outputs": [
    {
     "data": {
      "text/html": [
       "<div>\n",
       "<style scoped>\n",
       "    .dataframe tbody tr th:only-of-type {\n",
       "        vertical-align: middle;\n",
       "    }\n",
       "\n",
       "    .dataframe tbody tr th {\n",
       "        vertical-align: top;\n",
       "    }\n",
       "\n",
       "    .dataframe thead th {\n",
       "        text-align: right;\n",
       "    }\n",
       "</style>\n",
       "<table border=\"1\" class=\"dataframe\">\n",
       "  <thead>\n",
       "    <tr style=\"text-align: right;\">\n",
       "      <th></th>\n",
       "      <th>index</th>\n",
       "      <th>Rk</th>\n",
       "      <th>Bias</th>\n",
       "      <th>FG</th>\n",
       "      <th>AST</th>\n",
       "      <th>3PA</th>\n",
       "      <th>PTS</th>\n",
       "    </tr>\n",
       "  </thead>\n",
       "  <tbody>\n",
       "    <tr>\n",
       "      <th>0</th>\n",
       "      <td>0</td>\n",
       "      <td>1</td>\n",
       "      <td>1</td>\n",
       "      <td>1.8</td>\n",
       "      <td>0.6</td>\n",
       "      <td>4.1</td>\n",
       "      <td>5.3</td>\n",
       "    </tr>\n",
       "    <tr>\n",
       "      <th>1</th>\n",
       "      <td>1</td>\n",
       "      <td>2</td>\n",
       "      <td>1</td>\n",
       "      <td>0.4</td>\n",
       "      <td>0.8</td>\n",
       "      <td>1.5</td>\n",
       "      <td>1.7</td>\n",
       "    </tr>\n",
       "    <tr>\n",
       "      <th>2</th>\n",
       "      <td>2</td>\n",
       "      <td>3</td>\n",
       "      <td>1</td>\n",
       "      <td>1.1</td>\n",
       "      <td>1.9</td>\n",
       "      <td>2.2</td>\n",
       "      <td>3.2</td>\n",
       "    </tr>\n",
       "    <tr>\n",
       "      <th>3</th>\n",
       "      <td>3</td>\n",
       "      <td>4</td>\n",
       "      <td>1</td>\n",
       "      <td>6.0</td>\n",
       "      <td>1.6</td>\n",
       "      <td>0.0</td>\n",
       "      <td>13.9</td>\n",
       "    </tr>\n",
       "    <tr>\n",
       "      <th>4</th>\n",
       "      <td>4</td>\n",
       "      <td>5</td>\n",
       "      <td>1</td>\n",
       "      <td>3.4</td>\n",
       "      <td>2.2</td>\n",
       "      <td>0.2</td>\n",
       "      <td>8.9</td>\n",
       "    </tr>\n",
       "    <tr>\n",
       "      <th>...</th>\n",
       "      <td>...</td>\n",
       "      <td>...</td>\n",
       "      <td>...</td>\n",
       "      <td>...</td>\n",
       "      <td>...</td>\n",
       "      <td>...</td>\n",
       "      <td>...</td>\n",
       "    </tr>\n",
       "    <tr>\n",
       "      <th>703</th>\n",
       "      <td>703</td>\n",
       "      <td>528</td>\n",
       "      <td>1</td>\n",
       "      <td>4.0</td>\n",
       "      <td>0.8</td>\n",
       "      <td>0.0</td>\n",
       "      <td>11.5</td>\n",
       "    </tr>\n",
       "    <tr>\n",
       "      <th>704</th>\n",
       "      <td>704</td>\n",
       "      <td>529</td>\n",
       "      <td>1</td>\n",
       "      <td>3.1</td>\n",
       "      <td>0.9</td>\n",
       "      <td>0.0</td>\n",
       "      <td>7.8</td>\n",
       "    </tr>\n",
       "    <tr>\n",
       "      <th>705</th>\n",
       "      <td>705</td>\n",
       "      <td>530</td>\n",
       "      <td>1</td>\n",
       "      <td>3.6</td>\n",
       "      <td>1.1</td>\n",
       "      <td>0.0</td>\n",
       "      <td>8.9</td>\n",
       "    </tr>\n",
       "    <tr>\n",
       "      <th>706</th>\n",
       "      <td>706</td>\n",
       "      <td>530</td>\n",
       "      <td>1</td>\n",
       "      <td>3.4</td>\n",
       "      <td>0.8</td>\n",
       "      <td>0.0</td>\n",
       "      <td>8.5</td>\n",
       "    </tr>\n",
       "    <tr>\n",
       "      <th>707</th>\n",
       "      <td>707</td>\n",
       "      <td>530</td>\n",
       "      <td>1</td>\n",
       "      <td>3.8</td>\n",
       "      <td>1.5</td>\n",
       "      <td>0.0</td>\n",
       "      <td>9.4</td>\n",
       "    </tr>\n",
       "  </tbody>\n",
       "</table>\n",
       "<p>708 rows × 7 columns</p>\n",
       "</div>"
      ],
      "text/plain": [
       "     index   Rk  Bias   FG  AST  3PA   PTS\n",
       "0        0    1     1  1.8  0.6  4.1   5.3\n",
       "1        1    2     1  0.4  0.8  1.5   1.7\n",
       "2        2    3     1  1.1  1.9  2.2   3.2\n",
       "3        3    4     1  6.0  1.6  0.0  13.9\n",
       "4        4    5     1  3.4  2.2  0.2   8.9\n",
       "..     ...  ...   ...  ...  ...  ...   ...\n",
       "703    703  528     1  4.0  0.8  0.0  11.5\n",
       "704    704  529     1  3.1  0.9  0.0   7.8\n",
       "705    705  530     1  3.6  1.1  0.0   8.9\n",
       "706    706  530     1  3.4  0.8  0.0   8.5\n",
       "707    707  530     1  3.8  1.5  0.0   9.4\n",
       "\n",
       "[708 rows x 7 columns]"
      ]
     },
     "execution_count": 156,
     "metadata": {},
     "output_type": "execute_result"
    }
   ],
   "source": [
    "df.head()\n",
    "df.reset_index(inplace=True)\n",
    "df"
   ]
  },
  {
   "cell_type": "code",
   "execution_count": 158,
   "metadata": {
    "id": "QR8zQX6o-T35",
    "outputId": "b5093186-77ab-48e7-e86d-f92de1f070c6"
   },
   "outputs": [
    {
     "data": {
      "text/html": [
       "<div>\n",
       "<style scoped>\n",
       "    .dataframe tbody tr th:only-of-type {\n",
       "        vertical-align: middle;\n",
       "    }\n",
       "\n",
       "    .dataframe tbody tr th {\n",
       "        vertical-align: top;\n",
       "    }\n",
       "\n",
       "    .dataframe thead th {\n",
       "        text-align: right;\n",
       "    }\n",
       "</style>\n",
       "<table border=\"1\" class=\"dataframe\">\n",
       "  <thead>\n",
       "    <tr style=\"text-align: right;\">\n",
       "      <th></th>\n",
       "      <th>Bias</th>\n",
       "      <th>FG</th>\n",
       "      <th>AST</th>\n",
       "      <th>3PA</th>\n",
       "    </tr>\n",
       "  </thead>\n",
       "  <tbody>\n",
       "    <tr>\n",
       "      <th>0</th>\n",
       "      <td>1</td>\n",
       "      <td>1.8</td>\n",
       "      <td>0.6</td>\n",
       "      <td>4.1</td>\n",
       "    </tr>\n",
       "    <tr>\n",
       "      <th>1</th>\n",
       "      <td>1</td>\n",
       "      <td>0.4</td>\n",
       "      <td>0.8</td>\n",
       "      <td>1.5</td>\n",
       "    </tr>\n",
       "    <tr>\n",
       "      <th>2</th>\n",
       "      <td>1</td>\n",
       "      <td>1.1</td>\n",
       "      <td>1.9</td>\n",
       "      <td>2.2</td>\n",
       "    </tr>\n",
       "    <tr>\n",
       "      <th>3</th>\n",
       "      <td>1</td>\n",
       "      <td>6.0</td>\n",
       "      <td>1.6</td>\n",
       "      <td>0.0</td>\n",
       "    </tr>\n",
       "    <tr>\n",
       "      <th>4</th>\n",
       "      <td>1</td>\n",
       "      <td>3.4</td>\n",
       "      <td>2.2</td>\n",
       "      <td>0.2</td>\n",
       "    </tr>\n",
       "  </tbody>\n",
       "</table>\n",
       "</div>"
      ],
      "text/plain": [
       "   Bias   FG  AST  3PA\n",
       "0     1  1.8  0.6  4.1\n",
       "1     1  0.4  0.8  1.5\n",
       "2     1  1.1  1.9  2.2\n",
       "3     1  6.0  1.6  0.0\n",
       "4     1  3.4  2.2  0.2"
      ]
     },
     "execution_count": 158,
     "metadata": {},
     "output_type": "execute_result"
    }
   ],
   "source": [
    "# the data shape\n",
    "X=df[['Bias','FG','AST','3PA']]\n",
    "X.head()"
   ]
  },
  {
   "cell_type": "code",
   "execution_count": 146,
   "metadata": {},
   "outputs": [],
   "source": [
    "X"
   ]
  },
  {
   "cell_type": "markdown",
   "metadata": {
    "id": "THA-GlB4-T36"
   },
   "source": [
    "While we're at it, let's build the $\\mathbb{Y}$ vector of our true `PTS` values."
   ]
  },
  {
   "cell_type": "code",
   "execution_count": 232,
   "metadata": {
    "id": "_X_UitBv-T36",
    "outputId": "48e47794-540d-4c84-b69f-dd14158d5e9b"
   },
   "outputs": [
    {
     "name": "stdout",
     "output_type": "stream",
     "text": [
      "Number of observations are: 708\n"
     ]
    },
    {
     "data": {
      "text/plain": [
       "array([[ 5.3],\n",
       "       [ 1.7],\n",
       "       [ 3.2],\n",
       "       [13.9],\n",
       "       [ 8.9]])"
      ]
     },
     "execution_count": 232,
     "metadata": {},
     "output_type": "execute_result"
    }
   ],
   "source": [
    "# For nba data\n",
    "# how many observations\n",
    "num_observations = df.shape[0]\n",
    "print('Number of observations are:',num_observations)\n",
    "# visualize few\n",
    "# Assuming your dataframe is named 'df'\n",
    "Y = df[['PTS']].to_numpy()\n",
    "Y[:5]"
   ]
  },
  {
   "cell_type": "markdown",
   "metadata": {
    "id": "PvErkOWB-T36"
   },
   "source": [
    "---\n",
    "## Example prediction\n",
    "\n",
    "Suppose we decide to pick an arbitrary parameter $\\theta$:\n",
    "\n",
    "$$\\theta = \\begin{bmatrix}0.50 \\\\ -0.14 \\\\ 0.65 \\\\ 1.52 \\end{bmatrix}$$\n",
    "\n",
    "(For those interested: I drew these from random values simulated from a standard normal distribution using `np.random.randn`.)"
   ]
  },
  {
   "cell_type": "code",
   "execution_count": 262,
   "metadata": {
    "id": "40jQhvHO-T36",
    "outputId": "7b2e430a-580b-4d98-cb19-3ba65521ed72"
   },
   "outputs": [
    {
     "data": {
      "text/plain": [
       "array([[ 0.5 ],\n",
       "       [-1.14],\n",
       "       [ 0.65],\n",
       "       [ 1.52]])"
      ]
     },
     "execution_count": 262,
     "metadata": {},
     "output_type": "execute_result"
    }
   ],
   "source": [
    "theta_arbitrary = np.array([[0.5], [-1.14], [0.65], [1.52]])\n",
    "theta_arbitrary"
   ]
  },
  {
   "cell_type": "markdown",
   "metadata": {
    "id": "VDMSU0RJ-T36"
   },
   "source": [
    "For this value of $\\theta$ we can make a prediction using our model with matrix multiplication.\n",
    "\n",
    "The `@` symbol is the matrix multiply operation and is equivalent to writing `xt.dot(theta)`."
   ]
  },
  {
   "cell_type": "code",
   "execution_count": null,
   "metadata": {
    "id": "ByMaPlMY-T37",
    "outputId": "a2e00d56-f0e5-49bf-82bc-3a089d6fd098",
    "scrolled": true
   },
   "outputs": [
    {
     "data": {
      "text/plain": [
       "array([[ 5.07 ],\n",
       "       [ 2.844],\n",
       "       [ 3.825],\n",
       "       [-5.3  ],\n",
       "       [-1.642]])"
      ]
     },
     "metadata": {},
     "output_type": "display_data"
    },
    {
     "data": {
      "text/plain": [
       "array([[ 5.3],\n",
       "       [ 1.7],\n",
       "       [ 3.2],\n",
       "       [13.9],\n",
       "       [ 8.9]])"
      ]
     },
     "metadata": {},
     "output_type": "display_data"
    }
   ],
   "source": [
    "# apply the above random values on 'X' and predict 'y'\n"
   ]
  },
  {
   "cell_type": "markdown",
   "metadata": {
    "id": "NZKDVThR-T37"
   },
   "source": [
    "## Computing MSE\n",
    "\n",
    "For Ordinary Least Squares, the average loss is MSE:\n",
    "\n",
    "$$ \\Large R(\\theta) = \\frac{1}{n} || \\mathbb{Y} - \\mathbb{X}\\theta||^2_2 $$\n",
    "\n",
    "NumPy has a handy function `np.linalg.norm` that computes the norm of a matrix (default is L2 norm)."
   ]
  },
  {
   "cell_type": "code",
   "execution_count": 272,
   "metadata": {},
   "outputs": [
    {
     "data": {
      "text/plain": [
       "76.52265605508474"
      ]
     },
     "execution_count": 272,
     "metadata": {},
     "output_type": "execute_result"
    }
   ],
   "source": [
    "theta_arbitrary = np.array([[0.5], [-1.14], [0.65], [1.52]])\n",
    "def mse_nba(theta):\n",
    "    \"\"\"\n",
    "    Y is PTS\n",
    "    X is intercept, FG, AST, 3PA\n",
    "    \"\"\"\n",
    "    # compute MSE\n",
    "    return (1/n)*(np.linalg.norm(Y-X @ theta)**2)\n",
    "\n",
    "mse_nba(theta_arbitrary)"
   ]
  },
  {
   "cell_type": "markdown",
   "metadata": {
    "id": "rqAmuXOP-T37"
   },
   "source": [
    "Is this good? Is this bad? Let's compute the optimal theta and compare!"
   ]
  },
  {
   "cell_type": "markdown",
   "metadata": {
    "id": "nQJfj5x2-T37"
   },
   "source": [
    "---\n",
    "## Implementing Least Squares\n",
    "\n",
    "From lecture, the Least Squares Estimate $\\hat{\\theta}$ is:\n",
    "$$\n",
    "\\Large \\hat{\\theta} = \\left( \\mathbb{X}^{\\top} \\mathbb{X} \\right)^{-1} \\mathbb{X}^{\\top} \\mathbb{Y}\n",
    "$$"
   ]
  },
  {
   "cell_type": "markdown",
   "metadata": {
    "id": "jYc8Yftk-T37"
   },
   "source": [
    "While it is not as numerically stable or efficient. We can compute $\\hat{\\theta}$ by direction using matrix inversion. To do this, we import the `inv` function for the `numpy` linear algebra library:"
   ]
  },
  {
   "cell_type": "code",
   "execution_count": 274,
   "metadata": {
    "id": "-vy65j9k-T38"
   },
   "outputs": [],
   "source": [
    "from numpy.linalg import inv"
   ]
  },
  {
   "cell_type": "code",
   "execution_count": null,
   "metadata": {
    "id": "i5tD1VNK-T38",
    "outputId": "8f834243-3b38-42b6-d204-80013311700f"
   },
   "outputs": [
    {
     "data": {
      "text/plain": [
       "array([[-0.29253798],\n",
       "       [ 2.51705703],\n",
       "       [ 0.05075571],\n",
       "       [ 0.31307653]])"
      ]
     },
     "execution_count": 12,
     "metadata": {},
     "output_type": "execute_result"
    }
   ],
   "source": [
    "def least_squares_estimate(X, Y):\n",
    "    # code here\n",
    "    theta = np.linalg.inv(X.T @ X) @ X.T @ Y)\n",
    "    return\n",
    "\n",
    "theta_hat = least_squares_estimate(X, Y)\n",
    "theta_hat"
   ]
  },
  {
   "cell_type": "code",
   "execution_count": 299,
   "metadata": {},
   "outputs": [
    {
     "data": {
      "text/plain": [
       "array([[-0.29253798],\n",
       "       [ 2.51705703],\n",
       "       [ 0.05075571],\n",
       "       [ 0.31307653]])"
      ]
     },
     "execution_count": 299,
     "metadata": {},
     "output_type": "execute_result"
    }
   ],
   "source": [
    "def least_squares_estimate(X, Y):\n",
    "    # code here\n",
    "    theta = inv(X.T @ X) @ X.T @ Y\n",
    "    return theta\n",
    "\n",
    "theta_hat = least_squares_estimate(X, Y)\n",
    "theta_hat = theta_hat.to_numpy()\n",
    "theta_hat"
   ]
  },
  {
   "cell_type": "code",
   "execution_count": 301,
   "metadata": {
    "id": "NsKP5S7X-T38",
    "outputId": "9f6dbe31-323b-446e-9f35-93688cb67683"
   },
   "outputs": [
    {
     "name": "stdout",
     "output_type": "stream",
     "text": [
      "Arbitrary theta MSE:  76.52265605508474\n",
      "Optimal theta MSE: 0.3963133329080335\n"
     ]
    }
   ],
   "source": [
    "print(\"Arbitrary theta MSE: \", mse_nba(theta_arbitrary))\n",
    "print(\"Optimal theta MSE:\"  , mse_nba(theta_hat))"
   ]
  },
  {
   "cell_type": "markdown",
   "metadata": {
    "id": "0yoSX3ug-T38"
   },
   "source": [
    "Nice!!!\n",
    "\n",
    "---\n",
    "## Making Least Squares Predictions\n",
    "\n",
    "Now that we have estimated the model parameters $\\hat{\\theta}$ we can now also predict the points scored $\\hat{\\mathbb{Y}}$ for each of our players."
   ]
  },
  {
   "cell_type": "code",
   "execution_count": 327,
   "metadata": {
    "id": "3tVy8CcM-T38"
   },
   "outputs": [
    {
     "data": {
      "text/plain": [
       "array([[ 2.52231884e-01],\n",
       "       [-4.75495801e-01],\n",
       "       [ 6.14289704e-02],\n",
       "       [ 9.91013343e-01],\n",
       "       [-4.60266208e-01],\n",
       "       [-9.13852071e-02],\n",
       "       [-5.21891085e-02],\n",
       "       [-1.70906950e-01],\n",
       "       [-2.78689579e-01],\n",
       "       [-5.12307343e-01],\n",
       "       [-3.61994536e-01],\n",
       "       [-8.36675833e-01],\n",
       "       [-4.76205196e-01],\n",
       "       [-1.94063531e-01],\n",
       "       [ 9.19889979e-01],\n",
       "       [-2.37365335e-01],\n",
       "       [ 5.55434648e-02],\n",
       "       [-2.91129509e-01],\n",
       "       [-2.77311264e-01],\n",
       "       [-1.64589471e+00],\n",
       "       [-1.29253798e+00],\n",
       "       [ 6.70109134e-01],\n",
       "       [ 4.78274598e-01],\n",
       "       [-1.90506337e-01],\n",
       "       [ 1.90985522e-01],\n",
       "       [-5.94503237e-02],\n",
       "       [ 4.24355272e-02],\n",
       "       [-7.17319489e-01],\n",
       "       [ 1.65294058e+00],\n",
       "       [ 1.37206053e-01],\n",
       "       [-3.24942393e-01],\n",
       "       [-1.04896282e-01],\n",
       "       [-2.74347090e-01],\n",
       "       [ 4.59164090e-02],\n",
       "       [-4.53853273e-01],\n",
       "       [ 1.43214027e+00],\n",
       "       [ 3.10323965e-01],\n",
       "       [ 7.27793719e-01],\n",
       "       [-7.36348810e-01],\n",
       "       [-1.10353692e+00],\n",
       "       [-4.70664931e-01],\n",
       "       [ 6.18150853e-01],\n",
       "       [ 3.04259615e-01],\n",
       "       [ 3.85255888e-01],\n",
       "       [ 7.33965814e-01],\n",
       "       [-1.75195095e-01],\n",
       "       [-4.70216301e-02],\n",
       "       [ 8.07074823e-02],\n",
       "       [ 8.57096765e-01],\n",
       "       [ 2.76836694e-01],\n",
       "       [-7.94653038e-02],\n",
       "       [ 2.38878849e-01],\n",
       "       [ 6.49805913e-01],\n",
       "       [ 2.39545601e-01],\n",
       "       [ 3.41737909e-01],\n",
       "       [-5.29648336e-02],\n",
       "       [-2.79948199e-01],\n",
       "       [-5.21230754e-01],\n",
       "       [-6.34793302e-01],\n",
       "       [ 5.50161437e-01],\n",
       "       [ 2.43378861e-01],\n",
       "       [ 6.91727949e-01],\n",
       "       [ 2.50143975e-01],\n",
       "       [ 5.48335889e-01],\n",
       "       [-5.79094210e-01],\n",
       "       [ 2.85508981e-01],\n",
       "       [ 2.72613186e-01],\n",
       "       [-5.28366962e-01],\n",
       "       [-1.35547703e+00],\n",
       "       [-1.59994476e-01],\n",
       "       [ 9.66796615e-01],\n",
       "       [ 1.01102950e+00],\n",
       "       [ 1.04423641e+00],\n",
       "       [ 8.18742721e-01],\n",
       "       [-4.09251460e-01],\n",
       "       [ 1.04138468e-01],\n",
       "       [-4.00751793e-01],\n",
       "       [ 2.54910922e-01],\n",
       "       [ 6.02231295e-01],\n",
       "       [ 1.24773301e-01],\n",
       "       [-5.45119090e-02],\n",
       "       [ 3.10207590e-01],\n",
       "       [-2.62035486e-01],\n",
       "       [ 2.92335852e-01],\n",
       "       [ 1.54365316e-01],\n",
       "       [ 5.22188337e-01],\n",
       "       [ 2.73028814e-01],\n",
       "       [ 4.53853921e-01],\n",
       "       [ 1.73003435e-01],\n",
       "       [ 4.13976927e-01],\n",
       "       [ 5.35096822e-01],\n",
       "       [ 2.66570355e-01],\n",
       "       [ 1.51897881e-01],\n",
       "       [ 3.97579469e-01],\n",
       "       [ 1.09742896e-01],\n",
       "       [ 1.90333626e-01],\n",
       "       [-1.42951588e-01],\n",
       "       [-6.25856487e-01],\n",
       "       [-8.01180111e-01],\n",
       "       [-5.81350441e-01],\n",
       "       [-3.34552228e-02],\n",
       "       [-1.09793007e-01],\n",
       "       [-1.74112055e+00],\n",
       "       [-1.33922201e+00],\n",
       "       [-1.58674922e+00],\n",
       "       [-2.78953908e-01],\n",
       "       [ 1.65243315e-01],\n",
       "       [ 1.00978186e-01],\n",
       "       [ 1.37242669e-01],\n",
       "       [ 3.60700660e-01],\n",
       "       [ 1.71003170e-02],\n",
       "       [-8.64054039e-02],\n",
       "       [ 1.04962494e+00],\n",
       "       [-1.32840961e+00],\n",
       "       [-2.63298878e-01],\n",
       "       [ 2.22563016e-01],\n",
       "       [ 3.79096969e-02],\n",
       "       [-5.00050315e-01],\n",
       "       [-1.23572469e-01],\n",
       "       [-4.52814473e-01],\n",
       "       [-9.06165425e-01],\n",
       "       [-1.40380268e-01],\n",
       "       [ 7.66266580e-01],\n",
       "       [ 2.57359874e-02],\n",
       "       [-1.75807030e-01],\n",
       "       [-5.88246247e-01],\n",
       "       [-1.17809511e+00],\n",
       "       [-5.93321817e-01],\n",
       "       [ 2.96733872e-01],\n",
       "       [ 4.34768570e-01],\n",
       "       [ 6.38832011e-02],\n",
       "       [ 2.75274762e-01],\n",
       "       [-1.87813870e-01],\n",
       "       [ 9.23612315e-02],\n",
       "       [-2.85268927e-02],\n",
       "       [-1.88040695e-02],\n",
       "       [ 1.90127973e-01],\n",
       "       [ 4.45773940e-01],\n",
       "       [ 1.11206735e+00],\n",
       "       [ 2.52605858e-01],\n",
       "       [-5.32928108e-02],\n",
       "       [-5.40709266e-02],\n",
       "       [-3.30945461e-01],\n",
       "       [-1.53853539e+00],\n",
       "       [ 7.38179976e-01],\n",
       "       [ 7.81737478e-01],\n",
       "       [-5.57336046e-01],\n",
       "       [-1.96109114e-01],\n",
       "       [-1.24738443e-01],\n",
       "       [-5.36917904e-01],\n",
       "       [ 9.63349913e-02],\n",
       "       [ 1.26728826e-01],\n",
       "       [-2.11918547e-01],\n",
       "       [-2.79109265e-01],\n",
       "       [-6.60458457e-01],\n",
       "       [ 1.62246536e+00],\n",
       "       [-3.02769392e-03],\n",
       "       [ 8.16115587e-02],\n",
       "       [ 2.17067759e-01],\n",
       "       [-5.08688194e-01],\n",
       "       [ 2.60056167e-01],\n",
       "       [-1.26854994e+00],\n",
       "       [ 4.82200548e-02],\n",
       "       [-2.62702238e-01],\n",
       "       [-2.92537976e-01],\n",
       "       [ 1.11208346e-01],\n",
       "       [ 6.09565504e-01],\n",
       "       [-6.25382496e-02],\n",
       "       [ 6.09565504e-01],\n",
       "       [-5.34009460e-01],\n",
       "       [-1.20245593e-01],\n",
       "       [-3.30426886e-01],\n",
       "       [ 1.98136827e-01],\n",
       "       [ 7.02736375e-02],\n",
       "       [-3.50139019e-01],\n",
       "       [-1.48339101e-01],\n",
       "       [ 3.08495813e-01],\n",
       "       [-4.51874508e-02],\n",
       "       [-1.35061689e-01],\n",
       "       [-1.57634049e+00],\n",
       "       [ 6.16238909e-01],\n",
       "       [-1.34576114e+00],\n",
       "       [-1.74913705e-02],\n",
       "       [-1.03308970e-01],\n",
       "       [ 4.42839919e-01],\n",
       "       [ 6.38510120e-01],\n",
       "       [ 2.27240221e-01],\n",
       "       [ 2.76526617e-01],\n",
       "       [ 5.06163203e-01],\n",
       "       [-2.84840513e-02],\n",
       "       [ 1.19962503e+00],\n",
       "       [-1.27077196e+00],\n",
       "       [-1.01146100e-01],\n",
       "       [ 9.21436031e-02],\n",
       "       [-3.39960581e-01],\n",
       "       [-6.06892996e-01],\n",
       "       [-3.34885011e-01],\n",
       "       [ 4.79755344e-01],\n",
       "       [ 3.57203056e-01],\n",
       "       [ 5.45526359e-01],\n",
       "       [-3.41590910e+00],\n",
       "       [-7.07654705e-02],\n",
       "       [-1.73431105e-01],\n",
       "       [-1.43371988e-01],\n",
       "       [-3.15371342e-01],\n",
       "       [ 1.14839074e-01],\n",
       "       [ 1.05497868e-01],\n",
       "       [-2.07342148e-02],\n",
       "       [ 2.05385558e-02],\n",
       "       [-8.70760162e-02],\n",
       "       [-5.50021466e-01],\n",
       "       [ 1.23632982e-01],\n",
       "       [ 2.86635443e-02],\n",
       "       [ 1.82148808e-01],\n",
       "       [ 3.63319155e-01],\n",
       "       [-2.03485648e-01],\n",
       "       [ 3.31205865e-01],\n",
       "       [ 3.71858782e-01],\n",
       "       [ 9.88840519e-02],\n",
       "       [ 2.86665808e-01],\n",
       "       [ 6.54482604e-01],\n",
       "       [ 1.14234193e+00],\n",
       "       [-7.08345783e-01],\n",
       "       [ 1.62323436e-01],\n",
       "       [ 1.86980157e-01],\n",
       "       [ 2.14117942e-01],\n",
       "       [ 4.91231980e-04],\n",
       "       [ 3.43869529e-02],\n",
       "       [-1.52847745e-01],\n",
       "       [ 4.41952193e-01],\n",
       "       [-3.13631003e+00],\n",
       "       [ 1.65526044e-01],\n",
       "       [ 9.72735047e-01],\n",
       "       [-2.39865553e-01],\n",
       "       [-9.18396439e-02],\n",
       "       [-2.62149454e-01],\n",
       "       [-4.57142818e-01],\n",
       "       [-4.95285974e-01],\n",
       "       [-4.88815340e-01],\n",
       "       [ 5.76841466e-01],\n",
       "       [-1.85936488e+00],\n",
       "       [-5.17476269e-02],\n",
       "       [ 3.66074331e-01],\n",
       "       [ 1.78825491e-01],\n",
       "       [-1.24039008e+00],\n",
       "       [-5.14804415e-01],\n",
       "       [ 3.75137065e-01],\n",
       "       [ 4.54490720e-01],\n",
       "       [ 6.43397793e-02],\n",
       "       [-1.92829068e-02],\n",
       "       [ 1.47303554e-01],\n",
       "       [ 1.53591758e-01],\n",
       "       [-2.14498352e-02],\n",
       "       [-7.33844036e-02],\n",
       "       [ 4.92395441e-01],\n",
       "       [ 4.88127415e-01],\n",
       "       [ 4.65881568e-01],\n",
       "       [ 3.07283477e-03],\n",
       "       [-1.36708009e-02],\n",
       "       [ 3.77356206e-01],\n",
       "       [-6.14616740e-01],\n",
       "       [-1.43534808e+00],\n",
       "       [ 1.64529148e-01],\n",
       "       [ 3.92628166e-01],\n",
       "       [-8.82923411e-01],\n",
       "       [-1.61599100e+00],\n",
       "       [ 9.67889279e-01],\n",
       "       [-4.69504402e+00],\n",
       "       [ 7.49104436e-01],\n",
       "       [ 1.35870854e-01],\n",
       "       [-8.10847403e-01],\n",
       "       [ 6.42140587e-02],\n",
       "       [ 5.95454847e-02],\n",
       "       [ 2.30273090e-01],\n",
       "       [-2.02698728e-01],\n",
       "       [ 5.87729748e-01],\n",
       "       [-6.86513861e-01],\n",
       "       [ 5.37595587e-01],\n",
       "       [-1.04747769e+00],\n",
       "       [ 5.91274913e-02],\n",
       "       [-2.77677171e-02],\n",
       "       [ 3.09893481e-01],\n",
       "       [-3.42604894e-01],\n",
       "       [ 3.62067738e-01],\n",
       "       [-2.98189844e-01],\n",
       "       [ 3.84511569e-01],\n",
       "       [-2.03820366e-01],\n",
       "       [-7.78280415e-01],\n",
       "       [ 1.03882770e-01],\n",
       "       [-9.84834840e-01],\n",
       "       [ 7.37289329e-01],\n",
       "       [ 2.54486464e-01],\n",
       "       [-3.06897055e-01],\n",
       "       [ 8.59588191e-02],\n",
       "       [ 3.09985904e-01],\n",
       "       [-9.97074817e-02],\n",
       "       [-3.08939877e-02],\n",
       "       [-3.77421799e-02],\n",
       "       [ 1.22876189e+00],\n",
       "       [ 3.96469542e-01],\n",
       "       [ 5.10196078e-01],\n",
       "       [ 2.14050659e-01],\n",
       "       [-2.92537976e-01],\n",
       "       [-3.02873713e-01],\n",
       "       [-3.92275339e-01],\n",
       "       [-4.80913211e-02],\n",
       "       [-5.03221120e-01],\n",
       "       [ 2.05387004e-01],\n",
       "       [ 1.60709067e+00],\n",
       "       [-6.50459130e-01],\n",
       "       [-9.90361942e-01],\n",
       "       [ 9.39224287e-01],\n",
       "       [ 4.16698831e-01],\n",
       "       [ 1.09283665e+00],\n",
       "       [ 4.29976243e-01],\n",
       "       [ 1.35097976e+00],\n",
       "       [ 3.64866470e-01],\n",
       "       [-7.90715619e-03],\n",
       "       [ 8.18972025e-01],\n",
       "       [-4.20767505e-02],\n",
       "       [-2.57333879e-01],\n",
       "       [ 9.46187136e-01],\n",
       "       [ 6.87607719e-02],\n",
       "       [-5.82017907e-01],\n",
       "       [-3.66682738e-01],\n",
       "       [ 5.94490090e-01],\n",
       "       [-4.48332162e-01],\n",
       "       [ 2.75865376e-01],\n",
       "       [ 3.03652452e-01],\n",
       "       [ 8.49185659e-02],\n",
       "       [ 5.52029826e-01],\n",
       "       [-1.02719809e-01],\n",
       "       [-1.83805895e-03],\n",
       "       [-5.63665639e-01],\n",
       "       [-2.35873791e-01],\n",
       "       [-3.62244482e-01],\n",
       "       [-1.28388284e-01],\n",
       "       [-1.75031106e-01],\n",
       "       [-4.01037642e-01],\n",
       "       [-1.05584356e-01],\n",
       "       [-7.28730321e-03],\n",
       "       [-2.07287303e-01],\n",
       "       [ 5.37595587e-01],\n",
       "       [ 4.30829020e-01],\n",
       "       [ 4.50945279e-01],\n",
       "       [ 5.10894951e-01],\n",
       "       [ 3.69336330e-01],\n",
       "       [-4.03776626e-02],\n",
       "       [ 2.91025758e-01],\n",
       "       [-1.02343531e+00],\n",
       "       [-1.54630510e-02],\n",
       "       [-9.50650010e-02],\n",
       "       [-3.59670557e-01],\n",
       "       [ 4.23778030e-01],\n",
       "       [-9.41056588e-02],\n",
       "       [ 3.58423045e-03],\n",
       "       [-7.81406686e-01],\n",
       "       [ 8.85468745e-01],\n",
       "       [ 2.79067072e-01],\n",
       "       [ 4.41988810e-01],\n",
       "       [-8.55866022e-01],\n",
       "       [-6.19387031e-01],\n",
       "       [-7.20337028e-01],\n",
       "       [ 1.11062968e+00],\n",
       "       [-5.87860572e-01],\n",
       "       [ 3.45804367e-01],\n",
       "       [ 3.07661212e-01],\n",
       "       [ 4.27166249e-01],\n",
       "       [ 5.06456695e-01],\n",
       "       [-4.29986119e-01],\n",
       "       [-2.92537976e-01],\n",
       "       [ 2.21397557e-01],\n",
       "       [ 3.24617429e-01],\n",
       "       [-1.41275447e-01],\n",
       "       [ 7.57563866e-01],\n",
       "       [-1.75875052e-01],\n",
       "       [-6.33630411e-02],\n",
       "       [-1.27478523e-01],\n",
       "       [ 3.32169210e-02],\n",
       "       [-4.34721022e-01],\n",
       "       [ 1.61858940e-01],\n",
       "       [ 3.32139114e-01],\n",
       "       [ 2.10571032e-01],\n",
       "       [ 8.83915403e-01],\n",
       "       [-5.88457658e-02],\n",
       "       [-2.99641866e-01],\n",
       "       [-7.55894015e-02],\n",
       "       [-3.22140316e-01],\n",
       "       [-1.02416792e+00],\n",
       "       [ 4.76853442e-01],\n",
       "       [ 2.63299526e-01],\n",
       "       [ 2.91507002e-01],\n",
       "       [ 1.11465902e-02],\n",
       "       [ 4.97341035e-01],\n",
       "       [ 1.59276798e-02],\n",
       "       [ 1.76916108e+00],\n",
       "       [ 4.89318156e-02],\n",
       "       [-1.75103109e+00],\n",
       "       [-3.05679020e-02],\n",
       "       [ 4.39029461e-02],\n",
       "       [ 5.15104316e-01],\n",
       "       [-1.84272658e+00],\n",
       "       [-8.97921456e-01],\n",
       "       [-1.19119441e+00],\n",
       "       [-1.36849167e-01],\n",
       "       [ 7.78192492e-02],\n",
       "       [ 2.05385558e-02],\n",
       "       [ 3.10957222e-01],\n",
       "       [ 3.15801959e-01],\n",
       "       [ 7.13533314e-01],\n",
       "       [-2.49797750e+00],\n",
       "       [-2.92595618e-02],\n",
       "       [-6.86066628e-01],\n",
       "       [-1.92870574e+00],\n",
       "       [-1.19792850e-01],\n",
       "       [-1.59076084e-01],\n",
       "       [-9.15163411e-03],\n",
       "       [-5.03334092e-02],\n",
       "       [ 3.03639762e-01],\n",
       "       [-1.40953420e-01],\n",
       "       [ 3.89421698e-01],\n",
       "       [ 2.82586196e-01],\n",
       "       [-1.16224448e+00],\n",
       "       [-1.36376555e-01],\n",
       "       [ 1.15995634e+00],\n",
       "       [-6.76590871e-01],\n",
       "       [-2.26628352e-01],\n",
       "       [ 6.05200403e-04],\n",
       "       [-6.53861904e-01],\n",
       "       [-4.36482846e-01],\n",
       "       [-8.89840023e-01],\n",
       "       [ 2.66820103e-01],\n",
       "       [-3.05213777e-01],\n",
       "       [-1.68715175e-02],\n",
       "       [ 3.37630417e-02],\n",
       "       [ 1.22528806e-01],\n",
       "       [-4.91727842e-01],\n",
       "       [-3.22289723e-01],\n",
       "       [-5.66151989e-01],\n",
       "       [-4.76488440e-01],\n",
       "       [ 2.36568738e-01],\n",
       "       [ 1.05465262e+00],\n",
       "       [-2.63354409e-01],\n",
       "       [ 2.11930432e-01],\n",
       "       [-3.94662063e-01],\n",
       "       [ 1.50328660e+00],\n",
       "       [ 9.67342736e-01],\n",
       "       [ 9.45027802e-02],\n",
       "       [ 1.14600859e+00],\n",
       "       [ 3.05966620e-01],\n",
       "       [ 3.11095117e-01],\n",
       "       [-2.21444324e-01],\n",
       "       [ 5.95239647e-02],\n",
       "       [ 6.22642035e-01],\n",
       "       [-8.44278437e-02],\n",
       "       [ 4.98839757e-01],\n",
       "       [-2.78988118e-01],\n",
       "       [ 1.79362465e-01],\n",
       "       [-1.81498395e-01],\n",
       "       [-1.66921688e-01],\n",
       "       [ 1.14566113e-01],\n",
       "       [ 6.94086098e-02],\n",
       "       [-3.61238954e-01],\n",
       "       [ 5.17980549e-02],\n",
       "       [-4.92488196e-01],\n",
       "       [ 3.20907483e-01],\n",
       "       [-1.82706497e-01],\n",
       "       [-3.35330592e-01],\n",
       "       [ 1.87822635e-01],\n",
       "       [-1.35060777e-01],\n",
       "       [-7.94226609e-02],\n",
       "       [ 1.00392344e-01],\n",
       "       [-2.44957133e-01],\n",
       "       [-2.58519680e-01],\n",
       "       [ 5.08425425e-01],\n",
       "       [-1.19659173e+00],\n",
       "       [ 1.01892417e+00],\n",
       "       [-7.90838854e-02],\n",
       "       [-2.92537976e-01],\n",
       "       [ 6.57863153e-02],\n",
       "       [ 2.57359874e-02],\n",
       "       [ 9.68787053e-02],\n",
       "       [ 2.83987484e-01],\n",
       "       [ 1.85383260e-01],\n",
       "       [ 3.23400497e-01],\n",
       "       [ 9.38436388e-01],\n",
       "       [ 2.39745768e-01],\n",
       "       [-3.05149813e-01],\n",
       "       [ 3.28004169e-01],\n",
       "       [ 5.88998152e-01],\n",
       "       [ 4.79054382e-01],\n",
       "       [-1.90093829e-01],\n",
       "       [-5.22402953e-01],\n",
       "       [ 1.98346563e-01],\n",
       "       [-2.06343891e-02],\n",
       "       [-9.44023066e-02],\n",
       "       [-5.76161444e-02],\n",
       "       [-8.03266089e-04],\n",
       "       [ 2.52606098e-01],\n",
       "       [-7.25788265e-01],\n",
       "       [ 6.93878036e-02],\n",
       "       [ 7.70387521e-02],\n",
       "       [-7.41602711e-01],\n",
       "       [ 1.23735214e-01],\n",
       "       [ 2.39645427e-01],\n",
       "       [ 5.32410106e-01],\n",
       "       [-1.21284394e-01],\n",
       "       [-2.97219240e-01],\n",
       "       [ 9.12262467e-01],\n",
       "       [-1.00595832e+00],\n",
       "       [ 2.55506773e-02],\n",
       "       [ 2.75170363e-01],\n",
       "       [ 1.37877379e-01],\n",
       "       [-5.08448049e-02],\n",
       "       [ 6.35703985e-01],\n",
       "       [ 4.49492518e-01],\n",
       "       [-4.79360905e-01],\n",
       "       [ 4.17544404e-01],\n",
       "       [-6.42583374e-01],\n",
       "       [ 2.03669913e-01],\n",
       "       [-3.05448153e-01],\n",
       "       [-1.38394591e-01],\n",
       "       [-1.29282989e-01],\n",
       "       [-8.23073763e-01],\n",
       "       [ 8.67436097e-01],\n",
       "       [ 5.22565896e-01],\n",
       "       [ 9.48689521e-01],\n",
       "       [ 2.41843736e-01],\n",
       "       [ 2.79491530e-01],\n",
       "       [ 9.37823878e-02],\n",
       "       [ 3.93112248e-02],\n",
       "       [-4.77877778e-01],\n",
       "       [ 2.42900023e-01],\n",
       "       [ 2.76873311e-01],\n",
       "       [ 6.72122436e-02],\n",
       "       [ 1.09924196e+00],\n",
       "       [ 5.71594968e-01],\n",
       "       [-3.93752302e-01],\n",
       "       [ 1.45619297e-01],\n",
       "       [-1.16155183e-01],\n",
       "       [ 3.09305747e-01],\n",
       "       [-7.14708647e-01],\n",
       "       [ 6.94603320e-01],\n",
       "       [ 8.88781977e-01],\n",
       "       [ 3.64678753e-01],\n",
       "       [ 8.63730209e-01],\n",
       "       [ 5.50410670e-01],\n",
       "       [ 9.25344046e-01],\n",
       "       [-7.50665246e-01],\n",
       "       [ 1.14792373e-01],\n",
       "       [-2.25140866e-01],\n",
       "       [ 2.24519056e-01],\n",
       "       [ 9.81531363e-02],\n",
       "       [-1.88542181e-01],\n",
       "       [-1.05684381e+00],\n",
       "       [-9.00248830e-01],\n",
       "       [-9.35521354e-02],\n",
       "       [-1.32705393e-01],\n",
       "       [-1.13126648e-01],\n",
       "       [-3.41330978e-01],\n",
       "       [ 8.68230462e-01],\n",
       "       [ 3.11704886e-01],\n",
       "       [ 9.01948051e-01],\n",
       "       [-5.68808955e-02],\n",
       "       [ 1.63233197e-01],\n",
       "       [-3.79449518e-02],\n",
       "       [ 1.42319693e-01],\n",
       "       [ 2.40792246e-01],\n",
       "       [ 1.44886164e+00],\n",
       "       [ 7.04738427e-01],\n",
       "       [ 4.77390416e-01],\n",
       "       [ 5.07170862e-01],\n",
       "       [-7.01199765e-01],\n",
       "       [ 1.79291087e+00],\n",
       "       [-8.72117447e-02],\n",
       "       [ 3.34565798e-01],\n",
       "       [-7.71498079e-01],\n",
       "       [ 5.79400029e-03],\n",
       "       [-2.87302276e-01],\n",
       "       [ 6.79547019e-03],\n",
       "       [-2.58023880e-01],\n",
       "       [ 4.54643248e-01],\n",
       "       [ 2.35731256e-01],\n",
       "       [ 2.92768228e-01],\n",
       "       [ 3.73363016e-01],\n",
       "       [-4.23578280e-02],\n",
       "       [ 1.48019888e-01],\n",
       "       [ 2.35604273e-02],\n",
       "       [ 1.58916802e-01],\n",
       "       [ 1.44263955e-01],\n",
       "       [-1.99850664e-01],\n",
       "       [-8.01026186e-02],\n",
       "       [-3.87641052e-01],\n",
       "       [ 4.72413020e-01],\n",
       "       [ 4.76474430e-01],\n",
       "       [ 5.69365768e-01],\n",
       "       [ 1.70982054e-01],\n",
       "       [-4.62404413e-01],\n",
       "       [ 3.45576430e-01],\n",
       "       [-4.00175656e-02],\n",
       "       [-1.57004209e-01],\n",
       "       [-4.60159918e-01],\n",
       "       [-2.92537976e-01],\n",
       "       [-6.35143399e-02],\n",
       "       [-9.21149703e-02],\n",
       "       [ 6.60784451e-01],\n",
       "       [ 5.80289489e-01],\n",
       "       [ 1.13277975e+00],\n",
       "       [ 1.05467726e+00],\n",
       "       [ 4.92308305e-01],\n",
       "       [-3.81246756e-01],\n",
       "       [-4.19146903e-01],\n",
       "       [-2.50832115e-01],\n",
       "       [-6.54335231e-01],\n",
       "       [-2.71715467e-01],\n",
       "       [ 1.67281918e-01],\n",
       "       [ 4.21082270e-01],\n",
       "       [-2.92537976e-01],\n",
       "       [ 3.72787973e-01],\n",
       "       [ 2.06517851e-02],\n",
       "       [-2.20902777e-01],\n",
       "       [ 9.26597708e-02],\n",
       "       [-6.58937475e-01],\n",
       "       [ 2.24519056e-01],\n",
       "       [ 3.18024934e-01],\n",
       "       [-2.79486824e-01],\n",
       "       [ 9.21141653e-02],\n",
       "       [-6.46671085e-02],\n",
       "       [ 5.64772156e-01],\n",
       "       [ 1.85683966e-01],\n",
       "       [-6.22010323e-01],\n",
       "       [ 1.22047562e-01],\n",
       "       [ 2.82743006e-01],\n",
       "       [-2.36728020e-01],\n",
       "       [-5.36505010e-02],\n",
       "       [ 1.94185326e-01],\n",
       "       [-2.84834840e-01],\n",
       "       [ 2.66953940e-01],\n",
       "       [-1.24178227e+00],\n",
       "       [-9.11802685e-02],\n",
       "       [-1.21266932e-01],\n",
       "       [-1.56666148e-01],\n",
       "       [ 4.91425053e-02],\n",
       "       [ 1.88324408e+00],\n",
       "       [ 7.39141485e-01],\n",
       "       [-4.59578848e-01],\n",
       "       [-4.48270880e-01],\n",
       "       [-9.29714652e-01],\n",
       "       [ 2.29758615e-01],\n",
       "       [-1.37723610e+00],\n",
       "       [ 2.32471149e-01],\n",
       "       [ 3.72322539e-01],\n",
       "       [ 1.39660997e-01],\n",
       "       [-5.01030910e-02],\n",
       "       [-2.92537976e-01],\n",
       "       [-1.54355563e-01],\n",
       "       [-1.43420580e-01],\n",
       "       [ 3.37349709e-01],\n",
       "       [-3.92550666e-01],\n",
       "       [-4.39418205e-02],\n",
       "       [-4.18777976e-01],\n",
       "       [ 2.15835753e+00],\n",
       "       [ 6.46642287e-01],\n",
       "       [-2.19549842e-01],\n",
       "       [ 1.24263975e+00],\n",
       "       [-4.04890597e-01],\n",
       "       [-3.51347569e-01],\n",
       "       [ 4.89681429e-01],\n",
       "       [ 1.12499525e-01],\n",
       "       [ 1.80458989e-01],\n",
       "       [-2.43064817e-01],\n",
       "       [ 4.66210534e-01],\n",
       "       [ 2.20417409e-01],\n",
       "       [-5.71890634e-03],\n",
       "       [-1.69079985e-01],\n",
       "       [ 7.50467130e-01],\n",
       "       [ 4.79392418e-01],\n",
       "       [-7.33844036e-02],\n",
       "       [ 1.10278987e+00],\n",
       "       [ 3.53106456e-01],\n",
       "       [ 2.27822005e-01],\n",
       "       [ 2.61213509e-01],\n",
       "       [ 6.02015157e-02],\n",
       "       [ 5.52513675e-01],\n",
       "       [-2.43658798e+00],\n",
       "       [ 5.78170199e-01],\n",
       "       [-1.36240998e-02],\n",
       "       [ 3.76120360e-01],\n",
       "       [ 3.14817753e-01],\n",
       "       [ 8.80289489e-01],\n",
       "       [-7.97078464e-01],\n",
       "       [-6.91804893e-01],\n",
       "       [-9.83886537e-01],\n",
       "       [-8.16932746e-02],\n",
       "       [ 2.70106169e-02],\n",
       "       [-2.09252199e-01],\n",
       "       [-8.77307927e-02],\n",
       "       [ 7.26385657e-02],\n",
       "       [ 1.64170272e+00],\n",
       "       [-7.42086860e-01],\n",
       "       [-3.44197957e-01],\n",
       "       [-1.09833969e+00],\n",
       "       [-1.10621857e-01],\n",
       "       [-1.68370528e+00],\n",
       "       [-2.43981042e-01],\n",
       "       [-7.53013854e-02],\n",
       "       [-1.93939504e-01],\n",
       "       [-5.15876965e-02]])"
      ]
     },
     "execution_count": 327,
     "metadata": {},
     "output_type": "execute_result"
    }
   ],
   "source": [
    "Y_hat = X @ theta_hat\n",
    "Y_hat=Y_hat.to_numpy()\n",
    "diff=Y_hat-Y\n",
    "diff"
   ]
  },
  {
   "cell_type": "markdown",
   "metadata": {
    "id": "pYx9hJ8j-T38"
   },
   "source": [
    "<br/>\n",
    "\n",
    "---\n",
    "\n",
    "## Model Performance/Diagnosing the Model\n",
    "\n",
    "In previous lectures, we have plotted the residual vs. our single input feature $x$.\n",
    "\n",
    "For higher dimensional regression models, we often graph the residual with respect to the fitted values $\\hat{y}$."
   ]
  },
  {
   "cell_type": "code",
   "execution_count": 335,
   "metadata": {},
   "outputs": [
    {
     "name": "stderr",
     "output_type": "stream",
     "text": [
      "C:\\Users\\MOEED\\anaconda3\\Lib\\site-packages\\seaborn\\_oldcore.py:1119: FutureWarning: use_inf_as_na option is deprecated and will be removed in a future version. Convert inf values to NaN before operating instead.\n",
      "  with pd.option_context('mode.use_inf_as_na', True):\n",
      "C:\\Users\\MOEED\\anaconda3\\Lib\\site-packages\\seaborn\\_oldcore.py:1119: FutureWarning: use_inf_as_na option is deprecated and will be removed in a future version. Convert inf values to NaN before operating instead.\n",
      "  with pd.option_context('mode.use_inf_as_na', True):\n"
     ]
    },
    {
     "data": {
      "image/png": "[encoded data removed]",
      "text/plain": [
       "<Figure size 640x480 with 1 Axes>"
      ]
     },
     "metadata": {},
     "output_type": "display_data"
    }
   ],
   "source": [
    "sns.scatterplot(x=Y_hat.flatten(), y=(Y - Y_hat).flatten())\n",
    "sns.lineplot(x=[-1, 35], y=[0, 0], label=\"$\\hat{Y}=Y$\", color='orange', linewidth=3)\n",
    "plt.xlabel(\"$\\hat{Y}$\")\n",
    "plt.ylabel(\"$\\hat{Y}- Y$\")\n",
    "plt.xlim([0, 32])\n",
    "plt.show()"
   ]
  },
  {
   "cell_type": "markdown",
   "metadata": {
    "id": "HExge_K6-T39"
   },
   "source": [
    "Overall while the residuals are roughly centered around 0 ($\\hat{y} = y$), we see **heteroskedasticity**: Our regression spread is uneven, particularly as predictions get big."
   ]
  },
  {
   "cell_type": "markdown",
   "metadata": {
    "id": "gmOGHiUr-T39"
   },
   "source": [
    "## Multiple $R^2$"
   ]
  },
  {
   "cell_type": "markdown",
   "metadata": {
    "id": "DIL256Fp-T39"
   },
   "source": [
    "Let's compute the coefficient of determination, or **multiple $R^2$**, for our model."
   ]
  },
  {
   "cell_type": "code",
   "execution_count": 350,
   "metadata": {
    "id": "yp_VpgHV-T39",
    "outputId": "c792ee08-57da-4c42-babc-c777c53f5821"
   },
   "outputs": [
    {
     "name": "stdout",
     "output_type": "stream",
     "text": [
      "0.6087862763665718\n"
     ]
    }
   ],
   "source": [
    "# code here\n",
    "from sklearn.metrics import r2_score\n",
    "\n",
    "r_squared = r2_score(Y, Y_hat)\n",
    "print(r_squared)"
   ]
  },
  {
   "cell_type": "markdown",
   "metadata": {
    "id": "A-0h8Dky-T39"
   },
   "source": [
    "That's super high!!! Wait, what's up with that?\n",
    "\n",
    "(Hint: Basketball facts)\n",
    "\n",
    "Let's try reducing the number of features to see how this Multiple $R^2$ metric changes."
   ]
  },
  {
   "cell_type": "code",
   "execution_count": 338,
   "metadata": {
    "id": "7B2-bLs9-T39",
    "outputId": "f9bb4e19-19c4-43a9-f4c1-4bce6cec0758"
   },
   "outputs": [
    {
     "data": {
      "text/html": [
       "<div>\n",
       "<style scoped>\n",
       "    .dataframe tbody tr th:only-of-type {\n",
       "        vertical-align: middle;\n",
       "    }\n",
       "\n",
       "    .dataframe tbody tr th {\n",
       "        vertical-align: top;\n",
       "    }\n",
       "\n",
       "    .dataframe thead th {\n",
       "        text-align: right;\n",
       "    }\n",
       "</style>\n",
       "<table border=\"1\" class=\"dataframe\">\n",
       "  <thead>\n",
       "    <tr style=\"text-align: right;\">\n",
       "      <th></th>\n",
       "      <th>Bias</th>\n",
       "      <th>AST</th>\n",
       "      <th>3PA</th>\n",
       "    </tr>\n",
       "  </thead>\n",
       "  <tbody>\n",
       "    <tr>\n",
       "      <th>0</th>\n",
       "      <td>1</td>\n",
       "      <td>0.6</td>\n",
       "      <td>4.1</td>\n",
       "    </tr>\n",
       "    <tr>\n",
       "      <th>1</th>\n",
       "      <td>1</td>\n",
       "      <td>0.8</td>\n",
       "      <td>1.5</td>\n",
       "    </tr>\n",
       "    <tr>\n",
       "      <th>2</th>\n",
       "      <td>1</td>\n",
       "      <td>1.9</td>\n",
       "      <td>2.2</td>\n",
       "    </tr>\n",
       "    <tr>\n",
       "      <th>3</th>\n",
       "      <td>1</td>\n",
       "      <td>1.6</td>\n",
       "      <td>0.0</td>\n",
       "    </tr>\n",
       "    <tr>\n",
       "      <th>4</th>\n",
       "      <td>1</td>\n",
       "      <td>2.2</td>\n",
       "      <td>0.2</td>\n",
       "    </tr>\n",
       "  </tbody>\n",
       "</table>\n",
       "</div>"
      ],
      "text/plain": [
       "   Bias  AST  3PA\n",
       "0     1  0.6  4.1\n",
       "1     1  0.8  1.5\n",
       "2     1  1.9  2.2\n",
       "3     1  1.6  0.0\n",
       "4     1  2.2  0.2"
      ]
     },
     "execution_count": 338,
     "metadata": {},
     "output_type": "execute_result"
    }
   ],
   "source": [
    "# Use intercept, AST, 3PA\n",
    "X = X[['Bias','AST','3PA']]\n",
    "X.head()\n"
   ]
  },
  {
   "cell_type": "code",
   "execution_count": 340,
   "metadata": {
    "scrolled": true
   },
   "outputs": [
    {
     "data": {
      "text/html": [
       "<div>\n",
       "<style scoped>\n",
       "    .dataframe tbody tr th:only-of-type {\n",
       "        vertical-align: middle;\n",
       "    }\n",
       "\n",
       "    .dataframe tbody tr th {\n",
       "        vertical-align: top;\n",
       "    }\n",
       "\n",
       "    .dataframe thead th {\n",
       "        text-align: right;\n",
       "    }\n",
       "</style>\n",
       "<table border=\"1\" class=\"dataframe\">\n",
       "  <thead>\n",
       "    <tr style=\"text-align: right;\">\n",
       "      <th></th>\n",
       "      <th>0</th>\n",
       "    </tr>\n",
       "  </thead>\n",
       "  <tbody>\n",
       "    <tr>\n",
       "      <th>0</th>\n",
       "      <td>7.122</td>\n",
       "    </tr>\n",
       "    <tr>\n",
       "      <th>1</th>\n",
       "      <td>3.300</td>\n",
       "    </tr>\n",
       "    <tr>\n",
       "      <th>2</th>\n",
       "      <td>5.079</td>\n",
       "    </tr>\n",
       "    <tr>\n",
       "      <th>3</th>\n",
       "      <td>1.540</td>\n",
       "    </tr>\n",
       "    <tr>\n",
       "      <th>4</th>\n",
       "      <td>2.234</td>\n",
       "    </tr>\n",
       "  </tbody>\n",
       "</table>\n",
       "</div>"
      ],
      "text/plain": [
       "       0\n",
       "0  7.122\n",
       "1  3.300\n",
       "2  5.079\n",
       "3  1.540\n",
       "4  2.234"
      ]
     },
     "metadata": {},
     "output_type": "display_data"
    }
   ],
   "source": [
    "theta_arbitrary = np.array([[0.5], [0.65], [1.52]])\n",
    "display((X @ theta_arbitrary)[:5])"
   ]
  },
  {
   "cell_type": "code",
   "execution_count": 342,
   "metadata": {
    "scrolled": true
   },
   "outputs": [
    {
     "data": {
      "text/plain": [
       "23.21366883474576"
      ]
     },
     "execution_count": 342,
     "metadata": {},
     "output_type": "execute_result"
    }
   ],
   "source": [
    "mse_nba(theta_arbitrary)"
   ]
  },
  {
   "cell_type": "code",
   "execution_count": 344,
   "metadata": {},
   "outputs": [],
   "source": [
    "theta_hat = least_squares_estimate(X, Y)\n",
    "theta_hat = theta_hat.to_numpy()"
   ]
  },
  {
   "cell_type": "code",
   "execution_count": 346,
   "metadata": {},
   "outputs": [],
   "source": [
    "Y_hat = X @ theta_hat\n",
    "Y_hat = Y_hat.to_numpy()"
   ]
  },
  {
   "cell_type": "code",
   "execution_count": 352,
   "metadata": {},
   "outputs": [
    {
     "name": "stdout",
     "output_type": "stream",
     "text": [
      "0.6087862763665718\n"
     ]
    }
   ],
   "source": [
    "r_squared = r2_score(Y, Y_hat)\n",
    "print(r_squared)"
   ]
  },
  {
   "cell_type": "code",
   "execution_count": null,
   "metadata": {
    "id": "mNI37-m5-T3-",
    "outputId": "7abbd03c-a563-4fc2-ac83-5632cb2f27f5"
   },
   "outputs": [
    {
     "data": {
      "text/plain": [
       "0.4570055507968593"
      ]
     },
     "execution_count": 18,
     "metadata": {},
     "output_type": "execute_result"
    }
   ],
   "source": [
    "# Use intercept, AST only (SLR)\n"
   ]
  },
  {
   "cell_type": "code",
   "execution_count": null,
   "metadata": {},
   "outputs": [],
   "source": []
  },
  {
   "cell_type": "code",
   "execution_count": 356,
   "metadata": {
    "id": "HVYBQKwr-T3-",
    "outputId": "c89e4bcc-51e7-4ff4-bff1-ad31794dd9ff"
   },
   "outputs": [
    {
     "ename": "NameError",
     "evalue": "name 'theta_ast_only' is not defined",
     "output_type": "error",
     "traceback": [
      "\u001b[1;31m---------------------------------------------------------------------------\u001b[0m",
      "\u001b[1;31mNameError\u001b[0m                                 Traceback (most recent call last)",
      "Cell \u001b[1;32mIn[356], line 1\u001b[0m\n\u001b[1;32m----> 1\u001b[0m \u001b[43mtheta_ast_only\u001b[49m\n",
      "\u001b[1;31mNameError\u001b[0m: name 'theta_ast_only' is not defined"
     ]
    }
   ],
   "source": [
    "theta_ast_only"
   ]
  },
  {
   "cell_type": "code",
   "execution_count": null,
   "metadata": {
    "id": "d6AscYjq-T3-",
    "outputId": "6207bb4d-1ada-4a1d-b2dc-eca5eed6b4bd"
   },
   "outputs": [
    {
     "data": {
      "text/plain": [
       "array([[-0.29253798],\n",
       "       [ 2.51705703],\n",
       "       [ 0.05075571],\n",
       "       [ 0.31307653]])"
      ]
     },
     "execution_count": 20,
     "metadata": {},
     "output_type": "execute_result"
    }
   ],
   "source": [
    "theta_hat"
   ]
  },
  {
   "cell_type": "markdown",
   "metadata": {
    "id": "vo0A33bR-T3-"
   },
   "source": [
    "Comparing these Multiple $R^2$ together:"
   ]
  },
  {
   "cell_type": "code",
   "execution_count": null,
   "metadata": {
    "id": "LzCmPVjL-T4D",
    "outputId": "e3214633-038d-4b5e-bb91-04adf74d9c2f"
   },
   "outputs": [
    {
     "name": "stdout",
     "output_type": "stream",
     "text": [
      "(SLR) intercept, AST:     0.4570055507968593\n",
      "intercept, 3PA, AST:      0.608786276366571\n",
      "intercept, FG, 3PA, AST:  0.9883162128703274\n"
     ]
    }
   ],
   "source": [
    "print(\"(SLR) intercept, AST:    \", r2_ast_only)\n",
    "print(\"intercept, 3PA, AST:     \", r2_ast_3pa)\n",
    "print(\"intercept, FG, 3PA, AST: \", r2_ast_fg_3pa)"
   ]
  },
  {
   "cell_type": "markdown",
   "metadata": {
    "id": "gFQl4RBN-T4D"
   },
   "source": [
    "Because of how basketball is scored, knowing Field Goals `FG` *and* 3 point goal attempts `3PA` will reliably tell you how many total points a player scored in that game. This is assuming NBA players make a good number of their 3 pointers."
   ]
  },
  {
   "cell_type": "markdown",
   "metadata": {
    "id": "cIBEVgMV-T4E"
   },
   "source": [
    "Side note, if you wanted to check that Multiple R^2 for Simple Linear Regression is indeed correlation coefficient $r^2$:"
   ]
  },
  {
   "cell_type": "code",
   "execution_count": null,
   "metadata": {
    "id": "Wf2m_Iq4-T4E",
    "outputId": "73a44a9b-57b0-4d6e-930c-db23354a57f6"
   },
   "outputs": [
    {
     "data": {
      "text/plain": [
       "0.4570055507968595"
      ]
     },
     "execution_count": 22,
     "metadata": {},
     "output_type": "execute_result"
    }
   ],
   "source": [
    "r = np.corrcoef(nba['AST'], nba['PTS'])[0,1]\n",
    "r ** 2"
   ]
  }
 ],
 "metadata": {
  "colab": {
   "provenance": []
  },
  "kernelspec": {
   "display_name": "Python 3 (ipykernel)",
   "language": "python",
   "name": "python3"
  },
  "language_info": {
   "codemirror_mode": {
    "name": "ipython",
    "version": 3
   },
   "file_extension": ".py",
   "mimetype": "text/x-python",
   "name": "python",
   "nbconvert_exporter": "python",
   "pygments_lexer": "ipython3",
   "version": "3.11.5"
  }
 },
 "nbformat": 4,
 "nbformat_minor": 4
}
