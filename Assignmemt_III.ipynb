{
 "cells": [
  {
   "cell_type": "markdown",
   "metadata": {
    "id": "xOpYoQZNvo1A"
   },
   "source": [
    "# Assignment 3\n",
    "\n",
    "\n",
    "**Dataset Name**: Company Sales Data\n",
    "\n",
    "**Dataset Source**: Internal company records\n",
    "\n",
    "Description: This dataset contains records of sales transactions made by customers on our company's online platform. Each row represents a unique transaction, and the dataset includes various attributes related to each transaction.\n",
    "\n",
    "**Columns**:\n",
    "\n",
    "**id**: Unique identifier for each transaction.\n",
    "\n",
    "**product**: Indicates whether the product was recommended (TRUE/FALSE).\n",
    "\n",
    "**shop**: The online shop where the transaction took place.\n",
    "\n",
    "**uid**: Unique user identifier for the customer.\n",
    "\n",
    "**api_key**: API key associated with the transaction (if applicable).\n",
    "\n",
    "**email**: Customer's email address (if available).\n",
    "\n",
    "**order_id**: Unique identifier for the order (if applicable).\n",
    "\n",
    "**created_at**: Date and time when the transaction occurred.\n",
    "\n",
    "**device**: Type of device used for the transaction (e.g., desktop, mobile).\n",
    "\n",
    "**price**: Purchase price for the product.\n",
    "\n",
    "Objective: The objective of this analysis is to gain insights into customer behavior, purchase patterns, and overall sales performance on our platform. We will explore various aspects of the data to inform business decisions and identify opportunities for improvement."
   ]
  },
  {
   "cell_type": "code",
   "execution_count": 12,
   "metadata": {
    "id": "GKBdw4Rn1jli"
   },
   "outputs": [
    {
     "data": {
      "text/html": [
       "<div>\n",
       "<style scoped>\n",
       "    .dataframe tbody tr th:only-of-type {\n",
       "        vertical-align: middle;\n",
       "    }\n",
       "\n",
       "    .dataframe tbody tr th {\n",
       "        vertical-align: top;\n",
       "    }\n",
       "\n",
       "    .dataframe thead th {\n",
       "        text-align: right;\n",
       "    }\n",
       "</style>\n",
       "<table border=\"1\" class=\"dataframe\">\n",
       "  <thead>\n",
       "    <tr style=\"text-align: right;\">\n",
       "      <th></th>\n",
       "      <th>id</th>\n",
       "      <th>product</th>\n",
       "      <th>recommended</th>\n",
       "      <th>shop</th>\n",
       "      <th>uid</th>\n",
       "      <th>api_key</th>\n",
       "      <th>email</th>\n",
       "      <th>order_id</th>\n",
       "      <th>created_at</th>\n",
       "      <th>device</th>\n",
       "      <th>price</th>\n",
       "    </tr>\n",
       "  </thead>\n",
       "  <tbody>\n",
       "    <tr>\n",
       "      <th>0</th>\n",
       "      <td>295</td>\n",
       "      <td>8270579663139</td>\n",
       "      <td>True</td>\n",
       "      <td>shopcast-stage-1-0.myshopify.com</td>\n",
       "      <td>kM7u3GN9Qqme</td>\n",
       "      <td>015629919a40414db823561bddb1e8e3</td>\n",
       "      <td>NaN</td>\n",
       "      <td>NaN</td>\n",
       "      <td>2023-08-18 13:45:54</td>\n",
       "      <td>desktop</td>\n",
       "      <td>2490.0</td>\n",
       "    </tr>\n",
       "    <tr>\n",
       "      <th>1</th>\n",
       "      <td>228</td>\n",
       "      <td>8270579335459</td>\n",
       "      <td>True</td>\n",
       "      <td>shopcast-stage-1-0.myshopify.com</td>\n",
       "      <td>Ue66GQ3Hp5Ha</td>\n",
       "      <td>015629919a40414db823561bddb1e8e3</td>\n",
       "      <td>NaN</td>\n",
       "      <td>NaN</td>\n",
       "      <td>2023-08-16 12:59:52</td>\n",
       "      <td>desktop</td>\n",
       "      <td>960000.0</td>\n",
       "    </tr>\n",
       "    <tr>\n",
       "      <th>2</th>\n",
       "      <td>279</td>\n",
       "      <td>8270579335459</td>\n",
       "      <td>True</td>\n",
       "      <td>shopcast-stage-1-0.myshopify.com</td>\n",
       "      <td>kM7u3GN9Qqme</td>\n",
       "      <td>015629919a40414db823561bddb1e8e3</td>\n",
       "      <td>NaN</td>\n",
       "      <td>NaN</td>\n",
       "      <td>2023-08-18 07:29:15</td>\n",
       "      <td>desktop</td>\n",
       "      <td>960000.0</td>\n",
       "    </tr>\n",
       "    <tr>\n",
       "      <th>3</th>\n",
       "      <td>231</td>\n",
       "      <td>8270579269923</td>\n",
       "      <td>True</td>\n",
       "      <td>shopcast-stage-1-0.myshopify.com</td>\n",
       "      <td>Ue66GQ3Hp5Ha</td>\n",
       "      <td>015629919a40414db823561bddb1e8e3</td>\n",
       "      <td>NaN</td>\n",
       "      <td>NaN</td>\n",
       "      <td>2023-08-16 12:52:55</td>\n",
       "      <td>desktop</td>\n",
       "      <td>1024.0</td>\n",
       "    </tr>\n",
       "    <tr>\n",
       "      <th>4</th>\n",
       "      <td>235</td>\n",
       "      <td>8270579335459</td>\n",
       "      <td>True</td>\n",
       "      <td>shopcast-stage-1-0.myshopify.com</td>\n",
       "      <td>Ue66GQ3Hp5Ha</td>\n",
       "      <td>015629919a40414db823561bddb1e8e3</td>\n",
       "      <td>NaN</td>\n",
       "      <td>NaN</td>\n",
       "      <td>2023-08-16 12:54:08</td>\n",
       "      <td>desktop</td>\n",
       "      <td>960000.0</td>\n",
       "    </tr>\n",
       "    <tr>\n",
       "      <th>...</th>\n",
       "      <td>...</td>\n",
       "      <td>...</td>\n",
       "      <td>...</td>\n",
       "      <td>...</td>\n",
       "      <td>...</td>\n",
       "      <td>...</td>\n",
       "      <td>...</td>\n",
       "      <td>...</td>\n",
       "      <td>...</td>\n",
       "      <td>...</td>\n",
       "      <td>...</td>\n",
       "    </tr>\n",
       "    <tr>\n",
       "      <th>4995</th>\n",
       "      <td>16131932</td>\n",
       "      <td>6877473243254</td>\n",
       "      <td>False</td>\n",
       "      <td>shoeboxpk.myshopify.com</td>\n",
       "      <td>sxsPnVSyArUr</td>\n",
       "      <td>12373fcff2284a409d56bcbe7c4a1ea1</td>\n",
       "      <td>NaN</td>\n",
       "      <td>NaN</td>\n",
       "      <td>2023-09-20 06:33:46</td>\n",
       "      <td>mobile</td>\n",
       "      <td>NaN</td>\n",
       "    </tr>\n",
       "    <tr>\n",
       "      <th>4996</th>\n",
       "      <td>16143424</td>\n",
       "      <td>6842053886070</td>\n",
       "      <td>False</td>\n",
       "      <td>shoeboxpk.myshopify.com</td>\n",
       "      <td>np7qVDz6fGLJ</td>\n",
       "      <td>12373fcff2284a409d56bcbe7c4a1ea1</td>\n",
       "      <td>NaN</td>\n",
       "      <td>NaN</td>\n",
       "      <td>2023-09-20 06:38:39</td>\n",
       "      <td>mobile</td>\n",
       "      <td>NaN</td>\n",
       "    </tr>\n",
       "    <tr>\n",
       "      <th>4997</th>\n",
       "      <td>16132540</td>\n",
       "      <td>6691491545206</td>\n",
       "      <td>False</td>\n",
       "      <td>shoeboxpk.myshopify.com</td>\n",
       "      <td>AHla2f2pDC4-</td>\n",
       "      <td>12373fcff2284a409d56bcbe7c4a1ea1</td>\n",
       "      <td>NaN</td>\n",
       "      <td>NaN</td>\n",
       "      <td>2023-09-20 06:34:01</td>\n",
       "      <td>desktop</td>\n",
       "      <td>NaN</td>\n",
       "    </tr>\n",
       "    <tr>\n",
       "      <th>4998</th>\n",
       "      <td>16144720</td>\n",
       "      <td>6842050576502</td>\n",
       "      <td>False</td>\n",
       "      <td>shoeboxpk.myshopify.com</td>\n",
       "      <td>cNt-6b0ntESD</td>\n",
       "      <td>12373fcff2284a409d56bcbe7c4a1ea1</td>\n",
       "      <td>NaN</td>\n",
       "      <td>NaN</td>\n",
       "      <td>2023-09-20 06:39:09</td>\n",
       "      <td>mobile</td>\n",
       "      <td>NaN</td>\n",
       "    </tr>\n",
       "    <tr>\n",
       "      <th>4999</th>\n",
       "      <td>16133740</td>\n",
       "      <td>6802311577718</td>\n",
       "      <td>False</td>\n",
       "      <td>shoeboxpk.myshopify.com</td>\n",
       "      <td>YP_MKKF_MIBc</td>\n",
       "      <td>12373fcff2284a409d56bcbe7c4a1ea1</td>\n",
       "      <td>NaN</td>\n",
       "      <td>NaN</td>\n",
       "      <td>2023-09-20 06:34:31</td>\n",
       "      <td>mobile</td>\n",
       "      <td>NaN</td>\n",
       "    </tr>\n",
       "  </tbody>\n",
       "</table>\n",
       "<p>5000 rows × 11 columns</p>\n",
       "</div>"
      ],
      "text/plain": [
       "            id        product  recommended                              shop  \\\n",
       "0          295  8270579663139         True  shopcast-stage-1-0.myshopify.com   \n",
       "1          228  8270579335459         True  shopcast-stage-1-0.myshopify.com   \n",
       "2          279  8270579335459         True  shopcast-stage-1-0.myshopify.com   \n",
       "3          231  8270579269923         True  shopcast-stage-1-0.myshopify.com   \n",
       "4          235  8270579335459         True  shopcast-stage-1-0.myshopify.com   \n",
       "...        ...            ...          ...                               ...   \n",
       "4995  16131932  6877473243254        False           shoeboxpk.myshopify.com   \n",
       "4996  16143424  6842053886070        False           shoeboxpk.myshopify.com   \n",
       "4997  16132540  6691491545206        False           shoeboxpk.myshopify.com   \n",
       "4998  16144720  6842050576502        False           shoeboxpk.myshopify.com   \n",
       "4999  16133740  6802311577718        False           shoeboxpk.myshopify.com   \n",
       "\n",
       "               uid                           api_key  email  order_id  \\\n",
       "0     kM7u3GN9Qqme  015629919a40414db823561bddb1e8e3    NaN       NaN   \n",
       "1     Ue66GQ3Hp5Ha  015629919a40414db823561bddb1e8e3    NaN       NaN   \n",
       "2     kM7u3GN9Qqme  015629919a40414db823561bddb1e8e3    NaN       NaN   \n",
       "3     Ue66GQ3Hp5Ha  015629919a40414db823561bddb1e8e3    NaN       NaN   \n",
       "4     Ue66GQ3Hp5Ha  015629919a40414db823561bddb1e8e3    NaN       NaN   \n",
       "...            ...                               ...    ...       ...   \n",
       "4995  sxsPnVSyArUr  12373fcff2284a409d56bcbe7c4a1ea1    NaN       NaN   \n",
       "4996  np7qVDz6fGLJ  12373fcff2284a409d56bcbe7c4a1ea1    NaN       NaN   \n",
       "4997  AHla2f2pDC4-  12373fcff2284a409d56bcbe7c4a1ea1    NaN       NaN   \n",
       "4998  cNt-6b0ntESD  12373fcff2284a409d56bcbe7c4a1ea1    NaN       NaN   \n",
       "4999  YP_MKKF_MIBc  12373fcff2284a409d56bcbe7c4a1ea1    NaN       NaN   \n",
       "\n",
       "               created_at   device     price  \n",
       "0     2023-08-18 13:45:54  desktop    2490.0  \n",
       "1     2023-08-16 12:59:52  desktop  960000.0  \n",
       "2     2023-08-18 07:29:15  desktop  960000.0  \n",
       "3     2023-08-16 12:52:55  desktop    1024.0  \n",
       "4     2023-08-16 12:54:08  desktop  960000.0  \n",
       "...                   ...      ...       ...  \n",
       "4995  2023-09-20 06:33:46   mobile       NaN  \n",
       "4996  2023-09-20 06:38:39   mobile       NaN  \n",
       "4997  2023-09-20 06:34:01  desktop       NaN  \n",
       "4998  2023-09-20 06:39:09   mobile       NaN  \n",
       "4999  2023-09-20 06:34:31   mobile       NaN  \n",
       "\n",
       "[5000 rows x 11 columns]"
      ]
     },
     "execution_count": 12,
     "metadata": {},
     "output_type": "execute_result"
    }
   ],
   "source": [
    "# Load Necessary Libraries\n",
    "import pandas as pd\n",
    "import numpy as np\n",
    "import seaborn as sns\n",
    "import matplotlib.pyplot as plt\n",
    "df=pd.read_csv('C:\\\\Users\\\\MOEED\\\\Desktop\\\\Knowledge Streams\\Machine Learning\\Assignment_III_database.csv')\n",
    "df"
   ]
  },
  {
   "cell_type": "markdown",
   "metadata": {
    "id": "O6fb7odwuSGf"
   },
   "source": [
    "# Customer Analysis:\n",
    " How many unique customers made purchases?"
   ]
  },
  {
   "cell_type": "code",
   "execution_count": 24,
   "metadata": {
    "id": "oUs_F6ZDVUa2"
   },
   "outputs": [
    {
     "data": {
      "text/plain": [
       "2699"
      ]
     },
     "execution_count": 24,
     "metadata": {},
     "output_type": "execute_result"
    }
   ],
   "source": [
    "df['uid'].nunique()"
   ]
  },
  {
   "cell_type": "markdown",
   "metadata": {
    "id": "42IGPQHhudqv"
   },
   "source": [
    "# Purchase Patterns:\n",
    "\n",
    "Question: What is the average purchase price across all transactions?"
   ]
  },
  {
   "cell_type": "code",
   "execution_count": 26,
   "metadata": {
    "id": "JsGu6A4AVzNY"
   },
   "outputs": [
    {
     "data": {
      "text/plain": [
       "141218.17142857143"
      ]
     },
     "execution_count": 26,
     "metadata": {},
     "output_type": "execute_result"
    }
   ],
   "source": [
    "df['price'].mean()"
   ]
  },
  {
   "cell_type": "markdown",
   "metadata": {
    "id": "5mAWgwKxunis"
   },
   "source": [
    "# Top-Selling Products:\n",
    "\n",
    "Question: What are the top 5 products by the number of units sold?"
   ]
  },
  {
   "cell_type": "code",
   "execution_count": 41,
   "metadata": {
    "id": "Uz-xqgydWFfL"
   },
   "outputs": [
    {
     "data": {
      "text/html": [
       "<div>\n",
       "<style scoped>\n",
       "    .dataframe tbody tr th:only-of-type {\n",
       "        vertical-align: middle;\n",
       "    }\n",
       "\n",
       "    .dataframe tbody tr th {\n",
       "        vertical-align: top;\n",
       "    }\n",
       "\n",
       "    .dataframe thead th {\n",
       "        text-align: right;\n",
       "    }\n",
       "</style>\n",
       "<table border=\"1\" class=\"dataframe\">\n",
       "  <thead>\n",
       "    <tr style=\"text-align: right;\">\n",
       "      <th></th>\n",
       "      <th>0</th>\n",
       "    </tr>\n",
       "    <tr>\n",
       "      <th>product</th>\n",
       "      <th></th>\n",
       "    </tr>\n",
       "  </thead>\n",
       "  <tbody>\n",
       "    <tr>\n",
       "      <th>6802312102006</th>\n",
       "      <td>56</td>\n",
       "    </tr>\n",
       "    <tr>\n",
       "      <th>6630766936182</th>\n",
       "      <td>49</td>\n",
       "    </tr>\n",
       "    <tr>\n",
       "      <th>6802312364150</th>\n",
       "      <td>40</td>\n",
       "    </tr>\n",
       "    <tr>\n",
       "      <th>6690173517942</th>\n",
       "      <td>40</td>\n",
       "    </tr>\n",
       "    <tr>\n",
       "      <th>6682259423350</th>\n",
       "      <td>33</td>\n",
       "    </tr>\n",
       "  </tbody>\n",
       "</table>\n",
       "</div>"
      ],
      "text/plain": [
       "                0\n",
       "product          \n",
       "6802312102006  56\n",
       "6630766936182  49\n",
       "6802312364150  40\n",
       "6690173517942  40\n",
       "6682259423350  33"
      ]
     },
     "execution_count": 41,
     "metadata": {},
     "output_type": "execute_result"
    }
   ],
   "source": [
    "df1=pd.DataFrame(df.groupby('product').size().sort_values(ascending=False).head())\n",
    "df1"
   ]
  },
  {
   "cell_type": "markdown",
   "metadata": {
    "id": "Dzot3dP2u1lZ"
   },
   "source": [
    "# Purchase by Device Type:\n",
    "\n",
    "Question: What is the total revenue generated from desktop vs. mobile purchases?"
   ]
  },
  {
   "cell_type": "code",
   "execution_count": 45,
   "metadata": {
    "id": "PtbMfGKeW254"
   },
   "outputs": [
    {
     "data": {
      "text/html": [
       "<div>\n",
       "<style scoped>\n",
       "    .dataframe tbody tr th:only-of-type {\n",
       "        vertical-align: middle;\n",
       "    }\n",
       "\n",
       "    .dataframe tbody tr th {\n",
       "        vertical-align: top;\n",
       "    }\n",
       "\n",
       "    .dataframe thead th {\n",
       "        text-align: right;\n",
       "    }\n",
       "</style>\n",
       "<table border=\"1\" class=\"dataframe\">\n",
       "  <thead>\n",
       "    <tr style=\"text-align: right;\">\n",
       "      <th></th>\n",
       "      <th>price</th>\n",
       "    </tr>\n",
       "    <tr>\n",
       "      <th>device</th>\n",
       "      <th></th>\n",
       "    </tr>\n",
       "  </thead>\n",
       "  <tbody>\n",
       "    <tr>\n",
       "      <th>desktop</th>\n",
       "      <td>3981676.0</td>\n",
       "    </tr>\n",
       "    <tr>\n",
       "      <th>mobile</th>\n",
       "      <td>960960.0</td>\n",
       "    </tr>\n",
       "  </tbody>\n",
       "</table>\n",
       "</div>"
      ],
      "text/plain": [
       "             price\n",
       "device            \n",
       "desktop  3981676.0\n",
       "mobile    960960.0"
      ]
     },
     "execution_count": 45,
     "metadata": {},
     "output_type": "execute_result"
    }
   ],
   "source": [
    "df.groupby('device')['price'].sum().to_frame()"
   ]
  },
  {
   "cell_type": "markdown",
   "metadata": {
    "id": "m-Wgen5zvFbs"
   },
   "source": [
    "# Date Analysis:\n",
    "\n",
    "Question: What is the month with the highest total revenue?"
   ]
  },
  {
   "cell_type": "code",
   "execution_count": null,
   "metadata": {
    "id": "5ZNsZ89mvIPt"
   },
   "outputs": [],
   "source": [
    "df['month'] = pd.to_datetime(df['created_at']).dt.to_period('M')\n",
    "\n",
    "revenue_by_month = df.groupby('month')['price'].sum().reset_index()\n",
    "\n",
    "\n",
    "highest_revenue_month = revenue_by_month.iloc[revenue_by_month['price'].idxmax()]\n",
    "\n",
    "print(\"Month with the highest total revenue:\")\n",
    "print(highest_revenue_month)"
   ]
  },
  {
   "cell_type": "markdown",
   "metadata": {
    "id": "c9vzeV4HvNrE"
   },
   "source": [
    "# Customer Behavior:\n",
    "\n",
    "Question: How many customers made repeat purchases (more than one transaction)?"
   ]
  },
  {
   "cell_type": "code",
   "execution_count": 68,
   "metadata": {
    "id": "wzj2qs9EvT_I"
   },
   "outputs": [
    {
     "name": "stdout",
     "output_type": "stream",
     "text": [
      "1004\n"
     ]
    }
   ],
   "source": [
    "ab=df['uid'].value_counts()\n",
    "print((ab>1).sum())"
   ]
  },
  {
   "cell_type": "markdown",
   "metadata": {
    "id": "COps3Jtvvdp4"
   },
   "source": [
    "# Recommendation Effectiveness:\n",
    "\n",
    "Question: What is the average purchase price for recommended products vs. non-recommended products?"
   ]
  },
  {
   "cell_type": "code",
   "execution_count": 74,
   "metadata": {
    "id": "1s-uYgkMvf4E"
   },
   "outputs": [
    {
     "data": {
      "text/plain": [
       "prodcut_recommendation\n",
       "Non-Recommended        10.000000\n",
       "Recommended        145371.352941\n",
       "Name: price, dtype: float64"
      ]
     },
     "execution_count": 74,
     "metadata": {},
     "output_type": "execute_result"
    }
   ],
   "source": [
    "df['prodcut_recommendation']=df['recommended'].map({ True:'Recommended',False:'Non-Recommended'})\n",
    "df.groupby('prodcut_recommendation')['price'].mean()"
   ]
  },
  {
   "cell_type": "markdown",
   "metadata": {
    "id": "bMr4solEvjDt"
   },
   "source": [
    "# Price Category Analysis:\n",
    "\n",
    "Question: What is the distribution of purchases between 'Low' and 'High' price categories?"
   ]
  },
  {
   "cell_type": "code",
   "execution_count": 78,
   "metadata": {
    "id": "05bPL1rqvmmJ"
   },
   "outputs": [],
   "source": [
    "df['Category']=df['price'].apply(lambda x: 'high' if x>1000 else 'low')"
   ]
  },
  {
   "cell_type": "code",
   "execution_count": 84,
   "metadata": {},
   "outputs": [
    {
     "data": {
      "text/html": [
       "<div>\n",
       "<style scoped>\n",
       "    .dataframe tbody tr th:only-of-type {\n",
       "        vertical-align: middle;\n",
       "    }\n",
       "\n",
       "    .dataframe tbody tr th {\n",
       "        vertical-align: top;\n",
       "    }\n",
       "\n",
       "    .dataframe thead th {\n",
       "        text-align: right;\n",
       "    }\n",
       "</style>\n",
       "<table border=\"1\" class=\"dataframe\">\n",
       "  <thead>\n",
       "    <tr style=\"text-align: right;\">\n",
       "      <th></th>\n",
       "      <th>count</th>\n",
       "    </tr>\n",
       "    <tr>\n",
       "      <th>Category</th>\n",
       "      <th></th>\n",
       "    </tr>\n",
       "  </thead>\n",
       "  <tbody>\n",
       "    <tr>\n",
       "      <th>low</th>\n",
       "      <td>4969</td>\n",
       "    </tr>\n",
       "    <tr>\n",
       "      <th>high</th>\n",
       "      <td>31</td>\n",
       "    </tr>\n",
       "  </tbody>\n",
       "</table>\n",
       "</div>"
      ],
      "text/plain": [
       "          count\n",
       "Category       \n",
       "low        4969\n",
       "high         31"
      ]
     },
     "execution_count": 84,
     "metadata": {},
     "output_type": "execute_result"
    }
   ],
   "source": [
    "df['Category'].value_counts().to_frame()"
   ]
  },
  {
   "cell_type": "code",
   "execution_count": null,
   "metadata": {},
   "outputs": [],
   "source": []
  }
 ],
 "metadata": {
  "colab": {
   "provenance": []
  },
  "kernelspec": {
   "display_name": "Python 3 (ipykernel)",
   "language": "python",
   "name": "python3"
  },
  "language_info": {
   "codemirror_mode": {
    "name": "ipython",
    "version": 3
   },
   "file_extension": ".py",
   "mimetype": "text/x-python",
   "name": "python",
   "nbconvert_exporter": "python",
   "pygments_lexer": "ipython3",
   "version": "3.11.8"
  }
 },
 "nbformat": 4,
 "nbformat_minor": 4
}
